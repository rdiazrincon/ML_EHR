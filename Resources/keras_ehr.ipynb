{
 "cells": [
  {
   "cell_type": "markdown",
   "metadata": {
    "id": "kOmXUMktrCqz"
   },
   "source": [
    "# **Keras Tutorial 1: Build a Classifier Using a Fully Connected Neural Network**\n",
    "* Code adapted from University of Florida course *Biomedical Data Science*, College of Engineering (Parisa Rashidi 2021)\n",
    "\n",
    "* [Dataset](https://www.kaggle.com/datasets/uciml/pima-indians-diabetes-database): Smith, J.W., Everhart, J.E., Dickson, W.C., Knowler, W.C., & Johannes, R.S. (1988). Using the ADAP learning algorithm to forecast the onset of diabetes mellitus. In Proceedings of the Symposium on Computer Applications and Medical Care (pp. 261--265). IEEE Computer Society Press."
   ]
  },
  {
   "cell_type": "markdown",
   "metadata": {
    "id": "6MVt0bkArtGu"
   },
   "source": [
    "In this notebook, we will implement a simple deep learning classifier to predict whether a given patient has diabetes from a structured dataset of medical predictors. We will use the Keras library for developing our models.\n",
    "\n",
    "* Keras is a deep learning API written in Python, running on top of the machine learning platform TensorFlow. It was developed with a focus on enabling fast experimentation. *Being able to go from idea to result as fast as possible is key to doing good research.* (https://keras.io/about/)"
   ]
  },
  {
   "cell_type": "code",
   "execution_count": 28,
   "metadata": {
    "executionInfo": {
     "elapsed": 4016,
     "status": "ok",
     "timestamp": 1654527395770,
     "user": {
      "displayName": "Benjamin Shickel",
      "userId": "07487924651552066401"
     },
     "user_tz": 240
    },
    "id": "BG5sFXLvsi5B"
   },
   "outputs": [],
   "source": [
    "from keras.models import Sequential\n",
    "from keras.layers import Dense\n",
    "from keras.callbacks import ModelCheckpoint,EarlyStopping"
   ]
  },
  {
   "cell_type": "markdown",
   "metadata": {
    "id": "LJiPMsxrshC-"
   },
   "source": [
    "We will also be using some data processing functions from the library scikit-learn.\n",
    "* Scikit-learn is an open source machine learning library that supports supervised and unsupervised learning. It also provides various tools for model fitting, data preprocessing, model selection, model evaluation, and many other utilities. (https://scikit-learn.org/stable/getting_started.html)"
   ]
  },
  {
   "cell_type": "code",
   "execution_count": 29,
   "metadata": {
    "executionInfo": {
     "elapsed": 270,
     "status": "ok",
     "timestamp": 1654527396037,
     "user": {
      "displayName": "Benjamin Shickel",
      "userId": "07487924651552066401"
     },
     "user_tz": 240
    },
    "id": "gBWglF6EtCiv"
   },
   "outputs": [],
   "source": [
    "from sklearn.model_selection import train_test_split\n",
    "from sklearn.preprocessing import StandardScaler\n",
    "from sklearn.metrics import confusion_matrix"
   ]
  },
  {
   "cell_type": "markdown",
   "metadata": {
    "id": "7xgJbPP6tJ_D"
   },
   "source": [
    "Finally, we'll use methods we've already learned from the Pandas and NumPy libraries."
   ]
  },
  {
   "cell_type": "code",
   "execution_count": 30,
   "metadata": {
    "executionInfo": {
     "elapsed": 198,
     "status": "ok",
     "timestamp": 1654527396233,
     "user": {
      "displayName": "Benjamin Shickel",
      "userId": "07487924651552066401"
     },
     "user_tz": 240
    },
    "id": "jEm66gCjH75e"
   },
   "outputs": [],
   "source": [
    "import pandas as pd\n",
    "import numpy"
   ]
  },
  {
   "cell_type": "markdown",
   "metadata": {
    "id": "JNEWGcgZtaeH"
   },
   "source": [
    "Fix random seed for reproducibility."
   ]
  },
  {
   "cell_type": "code",
   "execution_count": 31,
   "metadata": {
    "executionInfo": {
     "elapsed": 5,
     "status": "ok",
     "timestamp": 1654527396233,
     "user": {
      "displayName": "Benjamin Shickel",
      "userId": "07487924651552066401"
     },
     "user_tz": 240
    },
    "id": "f8tFrt84H75k"
   },
   "outputs": [],
   "source": [
    "seed = 7\n",
    "numpy.random.seed(seed)"
   ]
  },
  {
   "cell_type": "markdown",
   "metadata": {
    "id": "jpmwAQz5tkU9"
   },
   "source": [
    "# 1. Load and explore dataset"
   ]
  },
  {
   "cell_type": "markdown",
   "metadata": {
    "id": "ZUQKKW0NtgJ_"
   },
   "source": [
    "Load dataset into a Pandas dataframe."
   ]
  },
  {
   "cell_type": "code",
   "execution_count": 32,
   "metadata": {
    "executionInfo": {
     "elapsed": 191,
     "status": "ok",
     "timestamp": 1654527396421,
     "user": {
      "displayName": "Benjamin Shickel",
      "userId": "07487924651552066401"
     },
     "user_tz": 240
    },
    "id": "VxsXurqP1jpF"
   },
   "outputs": [],
   "source": [
    "df = pd.read_csv('data_mlp.csv')"
   ]
  },
  {
   "cell_type": "code",
   "execution_count": 33,
   "metadata": {
    "colab": {
     "base_uri": "https://localhost:8080/",
     "height": 206
    },
    "executionInfo": {
     "elapsed": 6,
     "status": "ok",
     "timestamp": 1654527396421,
     "user": {
      "displayName": "Benjamin Shickel",
      "userId": "07487924651552066401"
     },
     "user_tz": 240
    },
    "id": "zIkJxYv8H75o",
    "outputId": "8d3ad044-60e1-4d54-fc2f-a070f54248c3"
   },
   "outputs": [
    {
     "data": {
      "text/html": [
       "<div>\n",
       "<style scoped>\n",
       "    .dataframe tbody tr th:only-of-type {\n",
       "        vertical-align: middle;\n",
       "    }\n",
       "\n",
       "    .dataframe tbody tr th {\n",
       "        vertical-align: top;\n",
       "    }\n",
       "\n",
       "    .dataframe thead th {\n",
       "        text-align: right;\n",
       "    }\n",
       "</style>\n",
       "<table border=\"1\" class=\"dataframe\">\n",
       "  <thead>\n",
       "    <tr style=\"text-align: right;\">\n",
       "      <th></th>\n",
       "      <th>Pregnancies</th>\n",
       "      <th>Glucose</th>\n",
       "      <th>BloodPressure</th>\n",
       "      <th>SkinThickness</th>\n",
       "      <th>Insulin</th>\n",
       "      <th>BMI</th>\n",
       "      <th>Age</th>\n",
       "      <th>Outcome</th>\n",
       "    </tr>\n",
       "  </thead>\n",
       "  <tbody>\n",
       "    <tr>\n",
       "      <th>0</th>\n",
       "      <td>6</td>\n",
       "      <td>148</td>\n",
       "      <td>72</td>\n",
       "      <td>35</td>\n",
       "      <td>0</td>\n",
       "      <td>33.6</td>\n",
       "      <td>50</td>\n",
       "      <td>1</td>\n",
       "    </tr>\n",
       "    <tr>\n",
       "      <th>1</th>\n",
       "      <td>1</td>\n",
       "      <td>85</td>\n",
       "      <td>66</td>\n",
       "      <td>29</td>\n",
       "      <td>0</td>\n",
       "      <td>26.6</td>\n",
       "      <td>31</td>\n",
       "      <td>0</td>\n",
       "    </tr>\n",
       "    <tr>\n",
       "      <th>2</th>\n",
       "      <td>8</td>\n",
       "      <td>183</td>\n",
       "      <td>64</td>\n",
       "      <td>0</td>\n",
       "      <td>0</td>\n",
       "      <td>23.3</td>\n",
       "      <td>32</td>\n",
       "      <td>1</td>\n",
       "    </tr>\n",
       "    <tr>\n",
       "      <th>3</th>\n",
       "      <td>1</td>\n",
       "      <td>89</td>\n",
       "      <td>66</td>\n",
       "      <td>23</td>\n",
       "      <td>94</td>\n",
       "      <td>28.1</td>\n",
       "      <td>21</td>\n",
       "      <td>0</td>\n",
       "    </tr>\n",
       "    <tr>\n",
       "      <th>4</th>\n",
       "      <td>0</td>\n",
       "      <td>137</td>\n",
       "      <td>40</td>\n",
       "      <td>35</td>\n",
       "      <td>168</td>\n",
       "      <td>43.1</td>\n",
       "      <td>33</td>\n",
       "      <td>1</td>\n",
       "    </tr>\n",
       "  </tbody>\n",
       "</table>\n",
       "</div>"
      ],
      "text/plain": [
       "   Pregnancies  Glucose  BloodPressure  SkinThickness  Insulin   BMI  Age  \\\n",
       "0            6      148             72             35        0  33.6   50   \n",
       "1            1       85             66             29        0  26.6   31   \n",
       "2            8      183             64              0        0  23.3   32   \n",
       "3            1       89             66             23       94  28.1   21   \n",
       "4            0      137             40             35      168  43.1   33   \n",
       "\n",
       "   Outcome  \n",
       "0        1  \n",
       "1        0  \n",
       "2        1  \n",
       "3        0  \n",
       "4        1  "
      ]
     },
     "execution_count": 33,
     "metadata": {},
     "output_type": "execute_result"
    }
   ],
   "source": [
    "df.head()"
   ]
  },
  {
   "cell_type": "code",
   "execution_count": 34,
   "metadata": {
    "colab": {
     "base_uri": "https://localhost:8080/",
     "height": 300
    },
    "executionInfo": {
     "elapsed": 256,
     "status": "ok",
     "timestamp": 1654527396674,
     "user": {
      "displayName": "Benjamin Shickel",
      "userId": "07487924651552066401"
     },
     "user_tz": 240
    },
    "id": "IJN_YFtpH75s",
    "outputId": "39615099-4b3d-434f-baf2-24a78c56fae9"
   },
   "outputs": [
    {
     "data": {
      "text/html": [
       "<div>\n",
       "<style scoped>\n",
       "    .dataframe tbody tr th:only-of-type {\n",
       "        vertical-align: middle;\n",
       "    }\n",
       "\n",
       "    .dataframe tbody tr th {\n",
       "        vertical-align: top;\n",
       "    }\n",
       "\n",
       "    .dataframe thead th {\n",
       "        text-align: right;\n",
       "    }\n",
       "</style>\n",
       "<table border=\"1\" class=\"dataframe\">\n",
       "  <thead>\n",
       "    <tr style=\"text-align: right;\">\n",
       "      <th></th>\n",
       "      <th>Pregnancies</th>\n",
       "      <th>Glucose</th>\n",
       "      <th>BloodPressure</th>\n",
       "      <th>SkinThickness</th>\n",
       "      <th>Insulin</th>\n",
       "      <th>BMI</th>\n",
       "      <th>Age</th>\n",
       "      <th>Outcome</th>\n",
       "    </tr>\n",
       "  </thead>\n",
       "  <tbody>\n",
       "    <tr>\n",
       "      <th>count</th>\n",
       "      <td>768.000000</td>\n",
       "      <td>768.000000</td>\n",
       "      <td>768.000000</td>\n",
       "      <td>768.000000</td>\n",
       "      <td>768.000000</td>\n",
       "      <td>768.000000</td>\n",
       "      <td>768.000000</td>\n",
       "      <td>768.000000</td>\n",
       "    </tr>\n",
       "    <tr>\n",
       "      <th>mean</th>\n",
       "      <td>3.845052</td>\n",
       "      <td>120.894531</td>\n",
       "      <td>69.105469</td>\n",
       "      <td>20.536458</td>\n",
       "      <td>79.799479</td>\n",
       "      <td>31.992578</td>\n",
       "      <td>33.240885</td>\n",
       "      <td>0.348958</td>\n",
       "    </tr>\n",
       "    <tr>\n",
       "      <th>std</th>\n",
       "      <td>3.369578</td>\n",
       "      <td>31.972618</td>\n",
       "      <td>19.355807</td>\n",
       "      <td>15.952218</td>\n",
       "      <td>115.244002</td>\n",
       "      <td>7.884160</td>\n",
       "      <td>11.760232</td>\n",
       "      <td>0.476951</td>\n",
       "    </tr>\n",
       "    <tr>\n",
       "      <th>min</th>\n",
       "      <td>0.000000</td>\n",
       "      <td>0.000000</td>\n",
       "      <td>0.000000</td>\n",
       "      <td>0.000000</td>\n",
       "      <td>0.000000</td>\n",
       "      <td>0.000000</td>\n",
       "      <td>21.000000</td>\n",
       "      <td>0.000000</td>\n",
       "    </tr>\n",
       "    <tr>\n",
       "      <th>25%</th>\n",
       "      <td>1.000000</td>\n",
       "      <td>99.000000</td>\n",
       "      <td>62.000000</td>\n",
       "      <td>0.000000</td>\n",
       "      <td>0.000000</td>\n",
       "      <td>27.300000</td>\n",
       "      <td>24.000000</td>\n",
       "      <td>0.000000</td>\n",
       "    </tr>\n",
       "    <tr>\n",
       "      <th>50%</th>\n",
       "      <td>3.000000</td>\n",
       "      <td>117.000000</td>\n",
       "      <td>72.000000</td>\n",
       "      <td>23.000000</td>\n",
       "      <td>30.500000</td>\n",
       "      <td>32.000000</td>\n",
       "      <td>29.000000</td>\n",
       "      <td>0.000000</td>\n",
       "    </tr>\n",
       "    <tr>\n",
       "      <th>75%</th>\n",
       "      <td>6.000000</td>\n",
       "      <td>140.250000</td>\n",
       "      <td>80.000000</td>\n",
       "      <td>32.000000</td>\n",
       "      <td>127.250000</td>\n",
       "      <td>36.600000</td>\n",
       "      <td>41.000000</td>\n",
       "      <td>1.000000</td>\n",
       "    </tr>\n",
       "    <tr>\n",
       "      <th>max</th>\n",
       "      <td>17.000000</td>\n",
       "      <td>199.000000</td>\n",
       "      <td>122.000000</td>\n",
       "      <td>99.000000</td>\n",
       "      <td>846.000000</td>\n",
       "      <td>67.100000</td>\n",
       "      <td>81.000000</td>\n",
       "      <td>1.000000</td>\n",
       "    </tr>\n",
       "  </tbody>\n",
       "</table>\n",
       "</div>"
      ],
      "text/plain": [
       "       Pregnancies     Glucose  BloodPressure  SkinThickness     Insulin  \\\n",
       "count   768.000000  768.000000     768.000000     768.000000  768.000000   \n",
       "mean      3.845052  120.894531      69.105469      20.536458   79.799479   \n",
       "std       3.369578   31.972618      19.355807      15.952218  115.244002   \n",
       "min       0.000000    0.000000       0.000000       0.000000    0.000000   \n",
       "25%       1.000000   99.000000      62.000000       0.000000    0.000000   \n",
       "50%       3.000000  117.000000      72.000000      23.000000   30.500000   \n",
       "75%       6.000000  140.250000      80.000000      32.000000  127.250000   \n",
       "max      17.000000  199.000000     122.000000      99.000000  846.000000   \n",
       "\n",
       "              BMI         Age     Outcome  \n",
       "count  768.000000  768.000000  768.000000  \n",
       "mean    31.992578   33.240885    0.348958  \n",
       "std      7.884160   11.760232    0.476951  \n",
       "min      0.000000   21.000000    0.000000  \n",
       "25%     27.300000   24.000000    0.000000  \n",
       "50%     32.000000   29.000000    0.000000  \n",
       "75%     36.600000   41.000000    1.000000  \n",
       "max     67.100000   81.000000    1.000000  "
      ]
     },
     "execution_count": 34,
     "metadata": {},
     "output_type": "execute_result"
    }
   ],
   "source": [
    "df.describe()"
   ]
  },
  {
   "cell_type": "markdown",
   "metadata": {
    "id": "sjzO86Q8tqYZ"
   },
   "source": [
    "# 2. Convert Pandas dataframe into vectors used for machine learning"
   ]
  },
  {
   "cell_type": "markdown",
   "metadata": {
    "id": "iEcakvCmt3UF"
   },
   "source": [
    "Convert Pandas dataframe to NumPy array."
   ]
  },
  {
   "cell_type": "code",
   "execution_count": 35,
   "metadata": {
    "executionInfo": {
     "elapsed": 8,
     "status": "ok",
     "timestamp": 1654527396675,
     "user": {
      "displayName": "Benjamin Shickel",
      "userId": "07487924651552066401"
     },
     "user_tz": 240
    },
    "id": "VwgUZC-sH75w"
   },
   "outputs": [],
   "source": [
    "data = df.values"
   ]
  },
  {
   "cell_type": "markdown",
   "metadata": {
    "id": "1oUOetLet6Iy"
   },
   "source": [
    "Split dataset into features (X) and labels (Y)."
   ]
  },
  {
   "cell_type": "code",
   "execution_count": 36,
   "metadata": {
    "executionInfo": {
     "elapsed": 6,
     "status": "ok",
     "timestamp": 1654527396675,
     "user": {
      "displayName": "Benjamin Shickel",
      "userId": "07487924651552066401"
     },
     "user_tz": 240
    },
    "id": "FOaUss_MH750"
   },
   "outputs": [],
   "source": [
    "X = data[:,0:7]\n",
    "Y = data[:,7]"
   ]
  },
  {
   "cell_type": "markdown",
   "metadata": {
    "id": "v2eoF9cDt-M7"
   },
   "source": [
    "# 3. Data Processing: Prepare data for ML algorithms"
   ]
  },
  {
   "cell_type": "markdown",
   "metadata": {
    "id": "ez-TWmw5uGNT"
   },
   "source": [
    "Scale each input feature to have zero mean and unit variance."
   ]
  },
  {
   "cell_type": "code",
   "execution_count": 37,
   "metadata": {
    "executionInfo": {
     "elapsed": 211,
     "status": "ok",
     "timestamp": 1654527396881,
     "user": {
      "displayName": "Benjamin Shickel",
      "userId": "07487924651552066401"
     },
     "user_tz": 240
    },
    "id": "wqFjAlvrlK2R"
   },
   "outputs": [],
   "source": [
    "X = StandardScaler().fit_transform(X)"
   ]
  },
  {
   "cell_type": "markdown",
   "metadata": {
    "id": "gH0MMpYJuMl9"
   },
   "source": [
    "Split dataset into a training set (sometimes referred to as a *development* set), and a testing set (sometimes referred to as a *validation* set). Here we use a random 20% of samples as our testing set to evaluate model performance. We will also set an (optional) random state for reproducibility."
   ]
  },
  {
   "cell_type": "code",
   "execution_count": 38,
   "metadata": {
    "executionInfo": {
     "elapsed": 8,
     "status": "ok",
     "timestamp": 1654527396881,
     "user": {
      "displayName": "Benjamin Shickel",
      "userId": "07487924651552066401"
     },
     "user_tz": 240
    },
    "id": "wn6ju0TyH753"
   },
   "outputs": [],
   "source": [
    "X_train, X_test, y_train, y_test = train_test_split(X, Y, test_size=0.20, random_state=1)"
   ]
  },
  {
   "cell_type": "code",
   "execution_count": 39,
   "metadata": {
    "colab": {
     "base_uri": "https://localhost:8080/"
    },
    "executionInfo": {
     "elapsed": 7,
     "status": "ok",
     "timestamp": 1654527396881,
     "user": {
      "displayName": "Benjamin Shickel",
      "userId": "07487924651552066401"
     },
     "user_tz": 240
    },
    "id": "U8lW8QmmH757",
    "outputId": "60be2303-01e1-4f81-fa50-ced4ef876558"
   },
   "outputs": [
    {
     "name": "stdout",
     "output_type": "stream",
     "text": [
      "Train set shape:  (614, 7)\n",
      "Test set shape:  (154, 7)\n"
     ]
    }
   ],
   "source": [
    "print(\"Train set shape: \", X_train.shape)\n",
    "print(\"Test set shape: \", X_test.shape)"
   ]
  },
  {
   "cell_type": "markdown",
   "metadata": {
    "id": "qLsD2TmFukzQ"
   },
   "source": [
    "# 4. Create our deep learning model (feed-forward neural network)\n",
    "We will use Keras to create a fully-connected neural network for our prediction task. This type of deep learning architecture is sometimes also known as a multi-layer perceptron (MLP). It is a relatively simple deep learning model that passes input data through multiple hidden *layers* (each with a number of hidden *neurons* and a particular *activation* function) to produce an output. We will construct our model to perform a classification task from our dataset."
   ]
  },
  {
   "cell_type": "markdown",
   "metadata": {
    "id": "E74F5u1YvaAV"
   },
   "source": [
    "There are many ways to create a model using the Keras API. Here, we will create a Sequential object, which is a way to define a series of layers that make up our model. In a Sequential model, input data will flow from one layer to the next, in the order that we define our layers."
   ]
  },
  {
   "cell_type": "code",
   "execution_count": 40,
   "metadata": {
    "executionInfo": {
     "elapsed": 5201,
     "status": "ok",
     "timestamp": 1654527402077,
     "user": {
      "displayName": "Benjamin Shickel",
      "userId": "07487924651552066401"
     },
     "user_tz": 240
    },
    "id": "PYZnjkVlH75-"
   },
   "outputs": [],
   "source": [
    "model = Sequential()"
   ]
  },
  {
   "cell_type": "markdown",
   "metadata": {
    "id": "5lcmdPOqwrfT"
   },
   "source": [
    "Each hidden layer of our neural network will be created using the **Dense** class from Keras. For each layer, we must define the number of hidden units (also known as neurons). There are several optional arguments we may also pass, which can be viewed in the [Keras documentation page](https://keras.io/api/layers/core_layers/dense/). We can add many layers to our deep learning model using the .add() function of the Sequential class. You can think of a Sequential container as a list of hidden layers."
   ]
  },
  {
   "cell_type": "markdown",
   "metadata": {
    "id": "UHlS_Mlnxb0y"
   },
   "source": [
    "For the first layer of our neural network, we must tell Keras how many variables to expect in each input vector. From our previous data exploration, we know that each patient is defined by 7 different variables, so the input dimension to our network is 7.\n",
    "\n",
    "One reason why deep learning models are so powerful is their ability to model complex variable interactions through nonlinear activation functions. We have several choices for activation function. In our example, we will use the commonly chosen Rectified Linear Unit activation (ReLU)."
   ]
  },
  {
   "cell_type": "code",
   "execution_count": 41,
   "metadata": {
    "executionInfo": {
     "elapsed": 595,
     "status": "ok",
     "timestamp": 1654527402669,
     "user": {
      "displayName": "Benjamin Shickel",
      "userId": "07487924651552066401"
     },
     "user_tz": 240
    },
    "id": "oAyRynnCyc9L"
   },
   "outputs": [],
   "source": [
    "model.add(Dense(units=15, input_dim=7, activation='relu'))"
   ]
  },
  {
   "cell_type": "markdown",
   "metadata": {
    "id": "yD6lUNBwy-tB"
   },
   "source": [
    "So far our model has a single hidden layer. Let's add one more hidden layer with 8 hidden units."
   ]
  },
  {
   "cell_type": "code",
   "execution_count": 42,
   "metadata": {
    "executionInfo": {
     "elapsed": 6,
     "status": "ok",
     "timestamp": 1654527402670,
     "user": {
      "displayName": "Benjamin Shickel",
      "userId": "07487924651552066401"
     },
     "user_tz": 240
    },
    "id": "s5E3HV1My-HZ"
   },
   "outputs": [],
   "source": [
    "model.add(Dense(units=8, activation='relu'))"
   ]
  },
  {
   "cell_type": "markdown",
   "metadata": {
    "id": "9HVJpiF3zISb"
   },
   "source": [
    "Once we are satisfied with the hidden layers of our model, we need to add an output layer for generating class predictions. Our output layer will also be a Dense layer, but it will only have a single (1) unit. Instead of ReLU, we will use a sigmoid activation function, which is typically chosen for binary classification problems such as ours. Using a sigmoid activation on our output layer allows us to interpret the output as a prediction probability. In other words, the probability that a given input vector belongs to class 1."
   ]
  },
  {
   "cell_type": "code",
   "execution_count": 43,
   "metadata": {
    "executionInfo": {
     "elapsed": 5,
     "status": "ok",
     "timestamp": 1654527402670,
     "user": {
      "displayName": "Benjamin Shickel",
      "userId": "07487924651552066401"
     },
     "user_tz": 240
    },
    "id": "kTYej2VQH76B"
   },
   "outputs": [],
   "source": [
    "model.add(Dense(units=1, activation='sigmoid'))"
   ]
  },
  {
   "cell_type": "markdown",
   "metadata": {
    "id": "IRDPoq_az3QU"
   },
   "source": [
    "Now that we have defined the architecture of our neural network, we will use the .compile() function to build it. In our example we are defining a few arguments that are associated with the training of our model:\n",
    "* We are using a binary cross-entropy loss. This is an appropriate choise for binary classification.\n",
    "* We will be using the Adam optimizer, which is a popular version of stochastic gradient descent (SGD).\n",
    "* For this example, we are interested in our model's prediction accuracy, so we'll tell Keras to use the \"accuracy\" metric. "
   ]
  },
  {
   "cell_type": "code",
   "execution_count": 44,
   "metadata": {
    "executionInfo": {
     "elapsed": 5,
     "status": "ok",
     "timestamp": 1654527402671,
     "user": {
      "displayName": "Benjamin Shickel",
      "userId": "07487924651552066401"
     },
     "user_tz": 240
    },
    "id": "l3UMa0lMH76F"
   },
   "outputs": [],
   "source": [
    "model.compile(loss='binary_crossentropy', optimizer='adam', metrics=['accuracy'])"
   ]
  },
  {
   "cell_type": "markdown",
   "metadata": {
    "id": "7JxlPdGZ0lGM"
   },
   "source": [
    "# 5. Train our model"
   ]
  },
  {
   "cell_type": "markdown",
   "metadata": {
    "id": "oMGKfFVi1RoP"
   },
   "source": [
    "Now it's time to train our prediction model! We're going to use a couple of best practices:\n",
    "* **Model checkpointing.** As we train our model, we're going to continously save the best version. This can be important in case training gets interrupted and you would like to pick up where you left off at a later time. Here, after each epoch (i.e. each iteration through our entire training data), we're going to look at the model's accuracy on a hold-out set that it hasn't seen before. If this accuracy is better than the last epoch, we'll save the model as our best-performing model and continue.\n",
    "* **Early stopping.** Sometimes we do not wish to continue training if the model's performance is not improving. Similar to model checkpointing, after each epoch we're going to look at the model's accuracy on the hold-out data. We define a counter called patience, which is the number of epochs without improvement in a particular metric (here we define the model's loss on hold-out data as our early stopping metric). If the metric does not improve after an epoch, the patience counter decreases by 1. If the model does improve, the counter gets reset to the initial value. Once the counter reaches zero, training will immediately end. Here we will tell the model to wait 4 epochs without improvement before ending training."
   ]
  },
  {
   "cell_type": "code",
   "execution_count": 45,
   "metadata": {
    "executionInfo": {
     "elapsed": 201,
     "status": "ok",
     "timestamp": 1654527402867,
     "user": {
      "displayName": "Benjamin Shickel",
      "userId": "07487924651552066401"
     },
     "user_tz": 240
    },
    "id": "QpS08U4q2qcL"
   },
   "outputs": [],
   "source": [
    "checkpoint = ModelCheckpoint('model.hdf5', monitor='val_accuracy', save_best_only=True)\n",
    "earlystop = EarlyStopping(monitor='val_loss', patience=4)"
   ]
  },
  {
   "cell_type": "markdown",
   "metadata": {
    "id": "0m4xhE_p2xyA"
   },
   "source": [
    "Fit the model using our training dataset. We will use the one-line function **.fit()** to train our entire deep learning model.\n",
    "* We will tell Keras to train the model for 150 epochs, but since we're using the early stopping method, training will likely end well before we reach 150 epochs.\n",
    "* We will use a batch size of 10 samples. During each epoch, the model will pass in 10 samples at a time.\n",
    "* We will use a random 30% of the training dataset as our hold-out dataset (here called the validation set) for computing metrics for our model checkpointing and early stopping."
   ]
  },
  {
   "cell_type": "code",
   "execution_count": 46,
   "metadata": {
    "colab": {
     "background_save": true,
     "base_uri": "https://localhost:8080/"
    },
    "id": "zyPx6zBxH76I"
   },
   "outputs": [
    {
     "name": "stdout",
     "output_type": "stream",
     "text": [
      "Epoch 1/150\n",
      "43/43 [==============================] - 6s 45ms/step - loss: 0.6819 - accuracy: 0.6200 - val_loss: 0.6071 - val_accuracy: 0.6595\n",
      "Epoch 2/150\n",
      "43/43 [==============================] - 1s 16ms/step - loss: 0.5934 - accuracy: 0.6807 - val_loss: 0.5673 - val_accuracy: 0.7027\n",
      "Epoch 3/150\n",
      "43/43 [==============================] - 0s 12ms/step - loss: 0.5527 - accuracy: 0.7226 - val_loss: 0.5488 - val_accuracy: 0.7135\n",
      "Epoch 4/150\n",
      "43/43 [==============================] - 0s 12ms/step - loss: 0.5291 - accuracy: 0.7319 - val_loss: 0.5350 - val_accuracy: 0.7189\n",
      "Epoch 5/150\n",
      "43/43 [==============================] - 0s 11ms/step - loss: 0.5125 - accuracy: 0.7319 - val_loss: 0.5243 - val_accuracy: 0.7135\n",
      "Epoch 6/150\n",
      "43/43 [==============================] - 1s 12ms/step - loss: 0.5003 - accuracy: 0.7226 - val_loss: 0.5174 - val_accuracy: 0.7243\n",
      "Epoch 7/150\n",
      "43/43 [==============================] - 1s 20ms/step - loss: 0.4909 - accuracy: 0.7366 - val_loss: 0.5109 - val_accuracy: 0.7243\n",
      "Epoch 8/150\n",
      "43/43 [==============================] - 1s 15ms/step - loss: 0.4839 - accuracy: 0.7436 - val_loss: 0.5079 - val_accuracy: 0.7405\n",
      "Epoch 9/150\n",
      "43/43 [==============================] - 0s 11ms/step - loss: 0.4764 - accuracy: 0.7529 - val_loss: 0.5063 - val_accuracy: 0.7297\n",
      "Epoch 10/150\n",
      "43/43 [==============================] - 1s 12ms/step - loss: 0.4712 - accuracy: 0.7599 - val_loss: 0.5031 - val_accuracy: 0.7189\n",
      "Epoch 11/150\n",
      "43/43 [==============================] - 0s 10ms/step - loss: 0.4672 - accuracy: 0.7599 - val_loss: 0.5042 - val_accuracy: 0.7189\n",
      "Epoch 12/150\n",
      "43/43 [==============================] - 0s 11ms/step - loss: 0.4614 - accuracy: 0.7669 - val_loss: 0.5023 - val_accuracy: 0.7243\n",
      "Epoch 13/150\n",
      "43/43 [==============================] - 0s 10ms/step - loss: 0.4574 - accuracy: 0.7739 - val_loss: 0.4993 - val_accuracy: 0.7351\n",
      "Epoch 14/150\n",
      "43/43 [==============================] - 0s 11ms/step - loss: 0.4532 - accuracy: 0.7925 - val_loss: 0.5006 - val_accuracy: 0.7297\n",
      "Epoch 15/150\n",
      "43/43 [==============================] - 0s 10ms/step - loss: 0.4510 - accuracy: 0.7832 - val_loss: 0.5029 - val_accuracy: 0.7297\n",
      "Epoch 16/150\n",
      "43/43 [==============================] - 0s 10ms/step - loss: 0.4475 - accuracy: 0.7902 - val_loss: 0.5007 - val_accuracy: 0.7351\n",
      "Epoch 17/150\n",
      "43/43 [==============================] - 1s 12ms/step - loss: 0.4446 - accuracy: 0.7902 - val_loss: 0.5016 - val_accuracy: 0.7351\n"
     ]
    },
    {
     "data": {
      "text/plain": [
       "<keras.callbacks.History at 0x7fc100607970>"
      ]
     },
     "execution_count": 46,
     "metadata": {},
     "output_type": "execute_result"
    }
   ],
   "source": [
    "model.fit(X_train, y_train, epochs=150, batch_size=10, validation_split= 0.3,callbacks = [checkpoint,earlystop])"
   ]
  },
  {
   "cell_type": "markdown",
   "metadata": {
    "id": "UK6YLXKi3Vaq"
   },
   "source": [
    "# 6. Evaluate our model"
   ]
  },
  {
   "cell_type": "markdown",
   "metadata": {
    "id": "G4EXW0G73YJ-"
   },
   "source": [
    "Let's check the performance of our trained model on the test set we already created. The model has never seen this particular data, so it can provide an idea of how well the model might perform in the future (generalizability to unseen data). We will use the Keras function .evaluate(), which will compute the loss, as well as any metrics we defined when compiling our model. Since we told Keras to use \"accuracy\" when we compiled, we will see the model's accuracy on the test data."
   ]
  },
  {
   "cell_type": "code",
   "execution_count": 47,
   "metadata": {
    "colab": {
     "background_save": true
    },
    "id": "U4fJodBOH76M"
   },
   "outputs": [
    {
     "name": "stdout",
     "output_type": "stream",
     "text": [
      "5/5 [==============================] - 0s 10ms/step - loss: 0.4733 - accuracy: 0.8052\n"
     ]
    }
   ],
   "source": [
    "scores = model.evaluate(X_test, y_test)"
   ]
  },
  {
   "cell_type": "markdown",
   "metadata": {
    "id": "5cQDdI654cb6"
   },
   "source": [
    "# 7. Let's try another neural network!"
   ]
  },
  {
   "cell_type": "markdown",
   "metadata": {
    "id": "jlC_r7EH4rsx"
   },
   "source": [
    "Create the Sequential model."
   ]
  },
  {
   "cell_type": "code",
   "execution_count": 48,
   "metadata": {
    "colab": {
     "background_save": true
    },
    "id": "Y4UW5b684wfE"
   },
   "outputs": [],
   "source": [
    "model = Sequential()"
   ]
  },
  {
   "cell_type": "markdown",
   "metadata": {
    "id": "r96OjWB04w2y"
   },
   "source": [
    "Add a hidden layer with 128 neurons. (Remember, since this is the first layer in our model, we also need to define the input dimension)."
   ]
  },
  {
   "cell_type": "code",
   "execution_count": 49,
   "metadata": {
    "colab": {
     "background_save": true
    },
    "id": "I_eljCHI49Yx"
   },
   "outputs": [],
   "source": [
    "model.add(Dense(units=128, input_dim=7, activation='sigmoid'))"
   ]
  },
  {
   "cell_type": "markdown",
   "metadata": {
    "id": "2YY6MLXb4_zL"
   },
   "source": [
    "Add 3 more hiden layers with the following attributes:\n",
    "* A layer with 64 hidden units and \"sigmoid\" activation\n",
    "* A layer with 32 hidden units and \"sigmoid\" activation\n",
    "* A layer with 16 hidden units and \"sigmoid\" activation"
   ]
  },
  {
   "cell_type": "code",
   "execution_count": 50,
   "metadata": {
    "colab": {
     "background_save": true
    },
    "id": "THGWXAeT6Hj7"
   },
   "outputs": [],
   "source": [
    "model.add(Dense(units=64, activation='sigmoid'))\n",
    "model.add(Dense(units=32, activation='sigmoid'))\n",
    "model.add(Dense(units=16, activation='sigmoid'))"
   ]
  },
  {
   "cell_type": "markdown",
   "metadata": {
    "id": "6s1nzxDj5MSq"
   },
   "source": [
    "Add an output layer with \"sigmoid\" activation. (Remember, since we are doing binary classification, the final layer should have a single unit)."
   ]
  },
  {
   "cell_type": "code",
   "execution_count": 51,
   "metadata": {
    "colab": {
     "background_save": true
    },
    "id": "xxxvXomw5TzD"
   },
   "outputs": [],
   "source": [
    "model.add(Dense(units=1, activation='sigmoid'))"
   ]
  },
  {
   "cell_type": "markdown",
   "metadata": {
    "id": "B0ae3PZY5YE9"
   },
   "source": [
    "Compile the model using binary crossentropy loss, adam optimizer, and accuracy metrics (Hint: this is the same way we compiled our first model.)"
   ]
  },
  {
   "cell_type": "code",
   "execution_count": 52,
   "metadata": {
    "colab": {
     "background_save": true
    },
    "id": "GV8Rby705XWF"
   },
   "outputs": [],
   "source": [
    "model.compile(loss='binary_crossentropy', optimizer='adam', metrics=['accuracy'])"
   ]
  },
  {
   "cell_type": "markdown",
   "metadata": {
    "id": "cXYfrnJx5kk4"
   },
   "source": [
    "Train the model without any callbacks (no checkpointing or early stopping). Use the following training arguments:\n",
    "* Train for 10 epochs.\n",
    "* Use 10% of the training data for hold-out validation.\n",
    "* Use a batch size of 32.\n",
    "* **Do not** use any callbacks such as early stopping or checkpointing."
   ]
  },
  {
   "cell_type": "code",
   "execution_count": 53,
   "metadata": {
    "colab": {
     "background_save": true
    },
    "id": "2LvR8ANw5Xdj"
   },
   "outputs": [
    {
     "name": "stdout",
     "output_type": "stream",
     "text": [
      "Epoch 1/10\n",
      "18/18 [==============================] - 3s 50ms/step - loss: 0.8274 - accuracy: 0.3406 - val_loss: 0.7136 - val_accuracy: 0.4032\n",
      "Epoch 2/10\n",
      "18/18 [==============================] - 0s 13ms/step - loss: 0.6854 - accuracy: 0.5580 - val_loss: 0.6755 - val_accuracy: 0.5968\n",
      "Epoch 3/10\n",
      "18/18 [==============================] - 0s 15ms/step - loss: 0.6481 - accuracy: 0.6594 - val_loss: 0.6759 - val_accuracy: 0.5968\n",
      "Epoch 4/10\n",
      "18/18 [==============================] - 0s 14ms/step - loss: 0.6415 - accuracy: 0.6594 - val_loss: 0.6803 - val_accuracy: 0.5968\n",
      "Epoch 5/10\n",
      "18/18 [==============================] - 0s 15ms/step - loss: 0.6406 - accuracy: 0.6594 - val_loss: 0.6802 - val_accuracy: 0.5968\n",
      "Epoch 6/10\n",
      "18/18 [==============================] - 0s 14ms/step - loss: 0.6404 - accuracy: 0.6594 - val_loss: 0.6811 - val_accuracy: 0.5968\n",
      "Epoch 7/10\n",
      "18/18 [==============================] - 0s 16ms/step - loss: 0.6398 - accuracy: 0.6594 - val_loss: 0.6788 - val_accuracy: 0.5968\n",
      "Epoch 8/10\n",
      "18/18 [==============================] - 0s 14ms/step - loss: 0.6397 - accuracy: 0.6594 - val_loss: 0.6795 - val_accuracy: 0.5968\n",
      "Epoch 9/10\n",
      "18/18 [==============================] - 0s 13ms/step - loss: 0.6388 - accuracy: 0.6594 - val_loss: 0.6734 - val_accuracy: 0.5968\n",
      "Epoch 10/10\n",
      "18/18 [==============================] - 0s 13ms/step - loss: 0.6381 - accuracy: 0.6594 - val_loss: 0.6743 - val_accuracy: 0.5968\n"
     ]
    },
    {
     "data": {
      "text/plain": [
       "<keras.callbacks.History at 0x7fc100553d90>"
      ]
     },
     "execution_count": 53,
     "metadata": {},
     "output_type": "execute_result"
    }
   ],
   "source": [
    "model.fit(X_train, y_train, epochs=10, batch_size=32, validation_split= 0.1)"
   ]
  },
  {
   "cell_type": "markdown",
   "metadata": {
    "id": "JgsZepMu5kBb"
   },
   "source": [
    "Evaluate the new model's performance on the test dataset."
   ]
  },
  {
   "cell_type": "code",
   "execution_count": 54,
   "metadata": {
    "colab": {
     "background_save": true
    },
    "id": "CmQEzf2C506_"
   },
   "outputs": [
    {
     "name": "stdout",
     "output_type": "stream",
     "text": [
      "5/5 [==============================] - 0s 7ms/step - loss: 0.6457 - accuracy: 0.6429\n"
     ]
    }
   ],
   "source": [
    "scores = model.evaluate(X_test, y_test)"
   ]
  },
  {
   "cell_type": "code",
   "execution_count": null,
   "metadata": {
    "colab": {
     "background_save": true
    },
    "id": "F6xmZeTab_86"
   },
   "outputs": [],
   "source": []
  }
 ],
 "metadata": {
  "accelerator": "GPU",
  "anaconda-cloud": {},
  "colab": {
   "collapsed_sections": [],
   "name": "MLP-Teacher.ipynb",
   "provenance": [
    {
     "file_id": "1HeKPEhTAMN0YCDHRP9wcYv18UUaaOJQW",
     "timestamp": 1654466786319
    },
    {
     "file_id": "148jGrKocKC_DFagQW4JBd7jtGQnOR9yf",
     "timestamp": 1654462810571
    }
   ],
   "version": ""
  },
  "kernelspec": {
   "display_name": "Python 3 (ipykernel)",
   "language": "python",
   "name": "python3"
  },
  "language_info": {
   "codemirror_mode": {
    "name": "ipython",
    "version": 3
   },
   "file_extension": ".py",
   "mimetype": "text/x-python",
   "name": "python",
   "nbconvert_exporter": "python",
   "pygments_lexer": "ipython3",
   "version": "3.8.12"
  }
 },
 "nbformat": 4,
 "nbformat_minor": 1
}

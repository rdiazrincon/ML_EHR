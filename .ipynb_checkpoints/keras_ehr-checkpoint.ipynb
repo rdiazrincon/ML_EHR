{
 "cells": [
  {
   "cell_type": "markdown",
   "metadata": {
    "id": "kOmXUMktrCqz"
   },
   "source": [
    "# **Machine Learning Lesson 1: Building a risk prediction tool for electronic health record data**\n",
    "* Code adapted from University of Florida course *Biomedical Data Science*, College of Engineering (Parisa Rashidi 2021)"
   ]
  },
  {
   "cell_type": "markdown",
   "metadata": {
    "id": "6MVt0bkArtGu"
   },
   "source": [
    "At the end of this lesson, you will be able to:\n",
    "\n",
    "* Get familar with steps of developing an Artificial intelligence (AI) model\n",
    "* Execute visualization code for a real-world AI model in electronic health record (EHR) dataset\n",
    "* Interpret the result of AI model\n",
    "\n",
    "In this notebook, we will implement two classifiers to predict the risk of a given surgical patient to develop postoperative Acute Kidney Injury (AKI) from a structured dataset of medical predictors. \n",
    "\n",
    "## 1. Motivation\n",
    "\n",
    "Predicting postoperative complications has the potential to inform shared decisions regarding the appropriateness of surgical procedures, targeted risk-reduction strategies, and postoperative resource use. Cognitive and judgment errors are major sources of potentially preventable complications. For example, underestimation of the risk of complications may be associated with postoperative undertriage of high-risk patients to general wards rather than intensive care units (ICUs) and an increased prevalence of hospital mortality.\n",
    "\n",
    "High-performance data-based clinical decision support has the potential to mitigate harm from cognitive errors occurring when estimating the risk of postoperative complications. All patients have a unique risk profile that is specific to their demographic characteristics, comorbid conditions, physiological reserve, planned surgical procedure, and surgeon’s skill; clinicians have had mediocre performance in estimating risk probabilities. Decision support tools are intended to augment these\n",
    "estimations, but many are hindered by time-consuming manual data entry requirements and lack of integration with clinical workflow. AI predictive models using automated EHR data inputs may be able to mitigate these challenges.\n",
    "\n",
    "In this notebook, we will focus on postoperative AKI complication and develop machine learning (ML) models to predict the risk."
   ]
  },
  {
   "cell_type": "markdown",
   "metadata": {},
   "source": [
    "## 2. Lifecycle of ML\n",
    "\n",
    "Following are the major steps that are involved in the ML lifecycle.\n",
    "<img src=\"ML.png\" alt=\"ML lifecycle\" width=\"800\" height=\"800\">\n",
    "\n",
    "### Data extraction and processing\n",
    "\n",
    "Relevant data must be extracted. For example, all revelant laboratory values and vital signs. Data quality and conformation to modeling requirements must be ensured through data preprocessing. For example, fixing the missing data, removing the unwanted outlier, and encoding the categorical data.\n",
    "\n",
    "### Model development\n",
    "\n",
    "Using various ML algorithms, we will develop a model on a training cohort. During the model refinement stage, model parameters (such as weights and biases) are altered to optimize the associations between inputs and outputs. \n",
    "\n",
    "### Evaluation and Intepretation\n",
    "\n",
    "Once a ML model is trained, we evaluate the end result on validation dataset to see how well the model performed or how reliable it is. Multiple performance metrics such as sensitivity, specificity will be evaluated. Model explainability or interpretability can be explored at this stage to elucidate the relative importance of inputs. For example, lower eGFR and higher systolic blood pressure associated with outcome.\n",
    "\n",
    "### Deployment\n",
    "\n",
    "ML model deployment is the process of placing a finished ML model into the live environment, such as creating a web service or mobile application for prediction. It is imperative that the performance of an established model is continually monitored in prospective deployment to safeguard against population drifts or data shifts that may result in deteriorating performance over time.\n",
    "\n",
    "### Optimization\n",
    "\n",
    "When new data sources are coming in or necessary steps for upgrading the performance of the ML model should be taken, we need to optimize the model by reinstructing the ML model in production.\n",
    "\n",
    "In this notebook, we will only focus on the first three phases. "
   ]
  },
  {
   "cell_type": "markdown",
   "metadata": {},
   "source": [
    "## 3. Load and explore dataset \n",
    "\n",
    "For this projetc, we will be using the EHR dataset which contains 10,000 surgical patients.\n",
    "\n",
    "* Each patient profile will contain the demographic variables (age, sex, race etc.), scheduled surgery related variables (doctor, scheduled room, scheduld anesthesia type), admission characteristic variables (emergent, transfer from other hospital etc.), neighborhood charactersitic variables (zip, rural, distance_from_shands etc.), comorbidity variables (diabetes, cancer, hypertension etc.), medications taken within one year before scheduled surgery (aspirin, diuretics, statins etc.), and laboratory measurements taken within 7 days or 8 to 365 days before scheduled surgery (hemoglobin, white blood cell count etc.)\n",
    "* The outcome is postoperative AKI. In other words the model will predict 'yes' or 'no' for each of surgical patient.\n",
    "\n",
    "The dataset includes a CSV file that provides the medical predictors and labels for each patient. We start with loading dataset into a Pandas dataframe. "
   ]
  },
  {
   "cell_type": "code",
   "execution_count": 1,
   "metadata": {},
   "outputs": [
    {
     "ename": "FileNotFoundError",
     "evalue": "[Errno 2] No such file or directory: 'data.csv'",
     "output_type": "error",
     "traceback": [
      "\u001b[0;31m---------------------------------------------------------------------------\u001b[0m",
      "\u001b[0;31mFileNotFoundError\u001b[0m                         Traceback (most recent call last)",
      "\u001b[1;32m/home/ricardo/Downloads/2 ML with EHR/.ipynb_checkpoints/keras_ehr-checkpoint.ipynb Cell 5\u001b[0m in \u001b[0;36m<cell line: 3>\u001b[0;34m()\u001b[0m\n\u001b[1;32m      <a href='vscode-notebook-cell:/home/ricardo/Downloads/2%20ML%20with%20EHR/.ipynb_checkpoints/keras_ehr-checkpoint.ipynb#W4sZmlsZQ%3D%3D?line=0'>1</a>\u001b[0m \u001b[39mimport\u001b[39;00m \u001b[39mpandas\u001b[39;00m \u001b[39mas\u001b[39;00m \u001b[39mpd\u001b[39;00m\n\u001b[1;32m      <a href='vscode-notebook-cell:/home/ricardo/Downloads/2%20ML%20with%20EHR/.ipynb_checkpoints/keras_ehr-checkpoint.ipynb#W4sZmlsZQ%3D%3D?line=1'>2</a>\u001b[0m \u001b[39mimport\u001b[39;00m \u001b[39mnumpy\u001b[39;00m \u001b[39mas\u001b[39;00m \u001b[39mnp\u001b[39;00m\n\u001b[0;32m----> <a href='vscode-notebook-cell:/home/ricardo/Downloads/2%20ML%20with%20EHR/.ipynb_checkpoints/keras_ehr-checkpoint.ipynb#W4sZmlsZQ%3D%3D?line=2'>3</a>\u001b[0m df \u001b[39m=\u001b[39m pd\u001b[39m.\u001b[39mread_csv(\u001b[39m'\u001b[39m\u001b[39mdata.csv\u001b[39m\u001b[39m'\u001b[39m)\n\u001b[1;32m      <a href='vscode-notebook-cell:/home/ricardo/Downloads/2%20ML%20with%20EHR/.ipynb_checkpoints/keras_ehr-checkpoint.ipynb#W4sZmlsZQ%3D%3D?line=4'>5</a>\u001b[0m df\u001b[39m.\u001b[39mhead()\n",
      "File \u001b[0;32m~/.local/lib/python3.8/site-packages/pandas/util/_decorators.py:311\u001b[0m, in \u001b[0;36mdeprecate_nonkeyword_arguments.<locals>.decorate.<locals>.wrapper\u001b[0;34m(*args, **kwargs)\u001b[0m\n\u001b[1;32m    305\u001b[0m \u001b[39mif\u001b[39;00m \u001b[39mlen\u001b[39m(args) \u001b[39m>\u001b[39m num_allow_args:\n\u001b[1;32m    306\u001b[0m     warnings\u001b[39m.\u001b[39mwarn(\n\u001b[1;32m    307\u001b[0m         msg\u001b[39m.\u001b[39mformat(arguments\u001b[39m=\u001b[39marguments),\n\u001b[1;32m    308\u001b[0m         \u001b[39mFutureWarning\u001b[39;00m,\n\u001b[1;32m    309\u001b[0m         stacklevel\u001b[39m=\u001b[39mstacklevel,\n\u001b[1;32m    310\u001b[0m     )\n\u001b[0;32m--> 311\u001b[0m \u001b[39mreturn\u001b[39;00m func(\u001b[39m*\u001b[39;49margs, \u001b[39m*\u001b[39;49m\u001b[39m*\u001b[39;49mkwargs)\n",
      "File \u001b[0;32m~/.local/lib/python3.8/site-packages/pandas/io/parsers/readers.py:680\u001b[0m, in \u001b[0;36mread_csv\u001b[0;34m(filepath_or_buffer, sep, delimiter, header, names, index_col, usecols, squeeze, prefix, mangle_dupe_cols, dtype, engine, converters, true_values, false_values, skipinitialspace, skiprows, skipfooter, nrows, na_values, keep_default_na, na_filter, verbose, skip_blank_lines, parse_dates, infer_datetime_format, keep_date_col, date_parser, dayfirst, cache_dates, iterator, chunksize, compression, thousands, decimal, lineterminator, quotechar, quoting, doublequote, escapechar, comment, encoding, encoding_errors, dialect, error_bad_lines, warn_bad_lines, on_bad_lines, delim_whitespace, low_memory, memory_map, float_precision, storage_options)\u001b[0m\n\u001b[1;32m    665\u001b[0m kwds_defaults \u001b[39m=\u001b[39m _refine_defaults_read(\n\u001b[1;32m    666\u001b[0m     dialect,\n\u001b[1;32m    667\u001b[0m     delimiter,\n\u001b[0;32m   (...)\u001b[0m\n\u001b[1;32m    676\u001b[0m     defaults\u001b[39m=\u001b[39m{\u001b[39m\"\u001b[39m\u001b[39mdelimiter\u001b[39m\u001b[39m\"\u001b[39m: \u001b[39m\"\u001b[39m\u001b[39m,\u001b[39m\u001b[39m\"\u001b[39m},\n\u001b[1;32m    677\u001b[0m )\n\u001b[1;32m    678\u001b[0m kwds\u001b[39m.\u001b[39mupdate(kwds_defaults)\n\u001b[0;32m--> 680\u001b[0m \u001b[39mreturn\u001b[39;00m _read(filepath_or_buffer, kwds)\n",
      "File \u001b[0;32m~/.local/lib/python3.8/site-packages/pandas/io/parsers/readers.py:575\u001b[0m, in \u001b[0;36m_read\u001b[0;34m(filepath_or_buffer, kwds)\u001b[0m\n\u001b[1;32m    572\u001b[0m _validate_names(kwds\u001b[39m.\u001b[39mget(\u001b[39m\"\u001b[39m\u001b[39mnames\u001b[39m\u001b[39m\"\u001b[39m, \u001b[39mNone\u001b[39;00m))\n\u001b[1;32m    574\u001b[0m \u001b[39m# Create the parser.\u001b[39;00m\n\u001b[0;32m--> 575\u001b[0m parser \u001b[39m=\u001b[39m TextFileReader(filepath_or_buffer, \u001b[39m*\u001b[39;49m\u001b[39m*\u001b[39;49mkwds)\n\u001b[1;32m    577\u001b[0m \u001b[39mif\u001b[39;00m chunksize \u001b[39mor\u001b[39;00m iterator:\n\u001b[1;32m    578\u001b[0m     \u001b[39mreturn\u001b[39;00m parser\n",
      "File \u001b[0;32m~/.local/lib/python3.8/site-packages/pandas/io/parsers/readers.py:934\u001b[0m, in \u001b[0;36mTextFileReader.__init__\u001b[0;34m(self, f, engine, **kwds)\u001b[0m\n\u001b[1;32m    931\u001b[0m     \u001b[39mself\u001b[39m\u001b[39m.\u001b[39moptions[\u001b[39m\"\u001b[39m\u001b[39mhas_index_names\u001b[39m\u001b[39m\"\u001b[39m] \u001b[39m=\u001b[39m kwds[\u001b[39m\"\u001b[39m\u001b[39mhas_index_names\u001b[39m\u001b[39m\"\u001b[39m]\n\u001b[1;32m    933\u001b[0m \u001b[39mself\u001b[39m\u001b[39m.\u001b[39mhandles: IOHandles \u001b[39m|\u001b[39m \u001b[39mNone\u001b[39;00m \u001b[39m=\u001b[39m \u001b[39mNone\u001b[39;00m\n\u001b[0;32m--> 934\u001b[0m \u001b[39mself\u001b[39m\u001b[39m.\u001b[39m_engine \u001b[39m=\u001b[39m \u001b[39mself\u001b[39;49m\u001b[39m.\u001b[39;49m_make_engine(f, \u001b[39mself\u001b[39;49m\u001b[39m.\u001b[39;49mengine)\n",
      "File \u001b[0;32m~/.local/lib/python3.8/site-packages/pandas/io/parsers/readers.py:1218\u001b[0m, in \u001b[0;36mTextFileReader._make_engine\u001b[0;34m(self, f, engine)\u001b[0m\n\u001b[1;32m   1214\u001b[0m     mode \u001b[39m=\u001b[39m \u001b[39m\"\u001b[39m\u001b[39mrb\u001b[39m\u001b[39m\"\u001b[39m\n\u001b[1;32m   1215\u001b[0m \u001b[39m# error: No overload variant of \"get_handle\" matches argument types\u001b[39;00m\n\u001b[1;32m   1216\u001b[0m \u001b[39m# \"Union[str, PathLike[str], ReadCsvBuffer[bytes], ReadCsvBuffer[str]]\"\u001b[39;00m\n\u001b[1;32m   1217\u001b[0m \u001b[39m# , \"str\", \"bool\", \"Any\", \"Any\", \"Any\", \"Any\", \"Any\"\u001b[39;00m\n\u001b[0;32m-> 1218\u001b[0m \u001b[39mself\u001b[39m\u001b[39m.\u001b[39mhandles \u001b[39m=\u001b[39m get_handle(  \u001b[39m# type: ignore[call-overload]\u001b[39;49;00m\n\u001b[1;32m   1219\u001b[0m     f,\n\u001b[1;32m   1220\u001b[0m     mode,\n\u001b[1;32m   1221\u001b[0m     encoding\u001b[39m=\u001b[39;49m\u001b[39mself\u001b[39;49m\u001b[39m.\u001b[39;49moptions\u001b[39m.\u001b[39;49mget(\u001b[39m\"\u001b[39;49m\u001b[39mencoding\u001b[39;49m\u001b[39m\"\u001b[39;49m, \u001b[39mNone\u001b[39;49;00m),\n\u001b[1;32m   1222\u001b[0m     compression\u001b[39m=\u001b[39;49m\u001b[39mself\u001b[39;49m\u001b[39m.\u001b[39;49moptions\u001b[39m.\u001b[39;49mget(\u001b[39m\"\u001b[39;49m\u001b[39mcompression\u001b[39;49m\u001b[39m\"\u001b[39;49m, \u001b[39mNone\u001b[39;49;00m),\n\u001b[1;32m   1223\u001b[0m     memory_map\u001b[39m=\u001b[39;49m\u001b[39mself\u001b[39;49m\u001b[39m.\u001b[39;49moptions\u001b[39m.\u001b[39;49mget(\u001b[39m\"\u001b[39;49m\u001b[39mmemory_map\u001b[39;49m\u001b[39m\"\u001b[39;49m, \u001b[39mFalse\u001b[39;49;00m),\n\u001b[1;32m   1224\u001b[0m     is_text\u001b[39m=\u001b[39;49mis_text,\n\u001b[1;32m   1225\u001b[0m     errors\u001b[39m=\u001b[39;49m\u001b[39mself\u001b[39;49m\u001b[39m.\u001b[39;49moptions\u001b[39m.\u001b[39;49mget(\u001b[39m\"\u001b[39;49m\u001b[39mencoding_errors\u001b[39;49m\u001b[39m\"\u001b[39;49m, \u001b[39m\"\u001b[39;49m\u001b[39mstrict\u001b[39;49m\u001b[39m\"\u001b[39;49m),\n\u001b[1;32m   1226\u001b[0m     storage_options\u001b[39m=\u001b[39;49m\u001b[39mself\u001b[39;49m\u001b[39m.\u001b[39;49moptions\u001b[39m.\u001b[39;49mget(\u001b[39m\"\u001b[39;49m\u001b[39mstorage_options\u001b[39;49m\u001b[39m\"\u001b[39;49m, \u001b[39mNone\u001b[39;49;00m),\n\u001b[1;32m   1227\u001b[0m )\n\u001b[1;32m   1228\u001b[0m \u001b[39massert\u001b[39;00m \u001b[39mself\u001b[39m\u001b[39m.\u001b[39mhandles \u001b[39mis\u001b[39;00m \u001b[39mnot\u001b[39;00m \u001b[39mNone\u001b[39;00m\n\u001b[1;32m   1229\u001b[0m f \u001b[39m=\u001b[39m \u001b[39mself\u001b[39m\u001b[39m.\u001b[39mhandles\u001b[39m.\u001b[39mhandle\n",
      "File \u001b[0;32m~/.local/lib/python3.8/site-packages/pandas/io/common.py:786\u001b[0m, in \u001b[0;36mget_handle\u001b[0;34m(path_or_buf, mode, encoding, compression, memory_map, is_text, errors, storage_options)\u001b[0m\n\u001b[1;32m    781\u001b[0m \u001b[39melif\u001b[39;00m \u001b[39misinstance\u001b[39m(handle, \u001b[39mstr\u001b[39m):\n\u001b[1;32m    782\u001b[0m     \u001b[39m# Check whether the filename is to be opened in binary mode.\u001b[39;00m\n\u001b[1;32m    783\u001b[0m     \u001b[39m# Binary mode does not support 'encoding' and 'newline'.\u001b[39;00m\n\u001b[1;32m    784\u001b[0m     \u001b[39mif\u001b[39;00m ioargs\u001b[39m.\u001b[39mencoding \u001b[39mand\u001b[39;00m \u001b[39m\"\u001b[39m\u001b[39mb\u001b[39m\u001b[39m\"\u001b[39m \u001b[39mnot\u001b[39;00m \u001b[39min\u001b[39;00m ioargs\u001b[39m.\u001b[39mmode:\n\u001b[1;32m    785\u001b[0m         \u001b[39m# Encoding\u001b[39;00m\n\u001b[0;32m--> 786\u001b[0m         handle \u001b[39m=\u001b[39m \u001b[39mopen\u001b[39;49m(\n\u001b[1;32m    787\u001b[0m             handle,\n\u001b[1;32m    788\u001b[0m             ioargs\u001b[39m.\u001b[39;49mmode,\n\u001b[1;32m    789\u001b[0m             encoding\u001b[39m=\u001b[39;49mioargs\u001b[39m.\u001b[39;49mencoding,\n\u001b[1;32m    790\u001b[0m             errors\u001b[39m=\u001b[39;49merrors,\n\u001b[1;32m    791\u001b[0m             newline\u001b[39m=\u001b[39;49m\u001b[39m\"\u001b[39;49m\u001b[39m\"\u001b[39;49m,\n\u001b[1;32m    792\u001b[0m         )\n\u001b[1;32m    793\u001b[0m     \u001b[39melse\u001b[39;00m:\n\u001b[1;32m    794\u001b[0m         \u001b[39m# Binary mode\u001b[39;00m\n\u001b[1;32m    795\u001b[0m         handle \u001b[39m=\u001b[39m \u001b[39mopen\u001b[39m(handle, ioargs\u001b[39m.\u001b[39mmode)\n",
      "\u001b[0;31mFileNotFoundError\u001b[0m: [Errno 2] No such file or directory: 'data.csv'"
     ]
    }
   ],
   "source": [
    "import pandas as pd\n",
    "import numpy as np\n",
    "df = pd.read_csv('data.csv')\n",
    "\n",
    "df.head()"
   ]
  },
  {
   "cell_type": "markdown",
   "metadata": {},
   "source": [
    "Let us look at the outcome and check the prevalence of postoperative AKI."
   ]
  },
  {
   "cell_type": "code",
   "execution_count": null,
   "metadata": {},
   "outputs": [
    {
     "name": "stdout",
     "output_type": "stream",
     "text": [
      "0.0    8364\n",
      "1.0    1636\n",
      "Name: aki_surg_disch, dtype: int64\n",
      "prevalence 0.1636\n"
     ]
    }
   ],
   "source": [
    "print(df['aki_surg_disch'].value_counts())\n",
    "prevalence = sum(df['aki_surg_disch'] == 1) / len(df['aki_surg_disch']) \n",
    "print('prevalence', prevalence)"
   ]
  },
  {
   "cell_type": "markdown",
   "metadata": {},
   "source": [
    "## 4. Data preprocessing\n",
    "\n",
    "Before training, you will first clean the dataset to ensure it conform the modeling requirement. Several steps might be involved:\n",
    "\n",
    "* Removing outliers\n",
    "* Fixing missingess\n",
    "* Transforming the dataset (encode the categorical variables etc.)\n",
    "* Feature Scaling\n",
    "\n",
    "Regarding the outlier removing, one common approach is to remove observations that fall in top and bottom x% of the distribution. In provided dataset, we have removed observations in top/bottom 1% of the distribution.\n",
    "\n",
    "### 4.1 Fixing missingness\n",
    "\n",
    "Missing data are common in routinely collected health data and often missingness is informative. For example, laboratory data are often missing for intentional (e.g., the patient does not need certain laboratory tests) or unintentional (e.g., lack of routine checkup or follow-up) reasons. Estimation bias and model performance from missingness can be mitigated using imputation methods.\n",
    "\n",
    "One simple but effective imputation approach is replacing missing values for each individual value by using a quantitative attribute or qualitative attribute of all the non-missing values. Methods such as replacing missing values with mode, mean or median of the available values are often used. \n",
    "\n",
    "Let's look at one variable 'serum_ca_min_0_7' (minimum serum calcium with 0-7 days before scheduled surgery start time). This variable contains missing value marked with 'missing'. Let's impute those missing values with median of the available values. "
   ]
  },
  {
   "cell_type": "code",
   "execution_count": null,
   "metadata": {},
   "outputs": [
    {
     "name": "stdout",
     "output_type": "stream",
     "text": [
      "---before imputation---\n",
      "0    missing\n",
      "1        8.6\n",
      "2       10.0\n",
      "3        8.7\n",
      "4        8.7\n",
      "Name: serum_ca_min_0_7, dtype: object\n"
     ]
    }
   ],
   "source": [
    "print('---before imputation---')\n",
    "print(df['serum_ca_min_0_7'].head())"
   ]
  },
  {
   "cell_type": "markdown",
   "metadata": {},
   "source": [
    "We first convert those cells with 'missing' vlaue into empty cells. Then we check the median value. "
   ]
  },
  {
   "cell_type": "code",
   "execution_count": null,
   "metadata": {},
   "outputs": [
    {
     "name": "stdout",
     "output_type": "stream",
     "text": [
      "0     NaN\n",
      "1     8.6\n",
      "2    10.0\n",
      "3     8.7\n",
      "4     8.7\n",
      "Name: serum_ca_min_0_7, dtype: float64\n",
      "median value 9.1\n"
     ]
    }
   ],
   "source": [
    "##we first remove 'missing' and convert all available values to numeric values. If ‘coerce’, then invalid parsing will be set as NaN\n",
    "df['serum_ca_min_0_7'] = pd.to_numeric(df['serum_ca_min_0_7'], errors='coerce')\n",
    "print(df['serum_ca_min_0_7'].head())\n",
    "\n",
    "##calculate median value\n",
    "val = df['serum_ca_min_0_7'].median()\n",
    "print('median value', val)"
   ]
  },
  {
   "cell_type": "markdown",
   "metadata": {},
   "source": [
    "Let's use fillna() function to fill all empty cells with median value. We will add one more column 'imputed_serum_ca_min_0_7' to save the imputed value for comparison.  "
   ]
  },
  {
   "cell_type": "code",
   "execution_count": null,
   "metadata": {},
   "outputs": [
    {
     "name": "stdout",
     "output_type": "stream",
     "text": [
      "---after imputation with median value---\n",
      "0     9.1\n",
      "1     8.6\n",
      "2    10.0\n",
      "3     8.7\n",
      "4     8.7\n",
      "Name: imputed_serum_ca_min_0_7, dtype: float64\n"
     ]
    }
   ],
   "source": [
    "df['imputed_serum_ca_min_0_7'] = df['serum_ca_min_0_7'].fillna(val)\n",
    "print('---after imputation with median value---')\n",
    "print(df['imputed_serum_ca_min_0_7'].head())"
   ]
  },
  {
   "cell_type": "markdown",
   "metadata": {},
   "source": [
    "Now the missing value has been replace to median value 9.1. Let's try imputing the missing values with mean function."
   ]
  },
  {
   "cell_type": "code",
   "execution_count": null,
   "metadata": {},
   "outputs": [
    {
     "name": "stdout",
     "output_type": "stream",
     "text": [
      "mean value 9.004099848714064\n",
      "---after imputation with mean value---\n",
      "0     9.0041\n",
      "1     8.6000\n",
      "2    10.0000\n",
      "3     8.7000\n",
      "4     8.7000\n",
      "Name: imputed_serum_ca_min_0_7, dtype: float64\n"
     ]
    }
   ],
   "source": [
    "###Todo: change 'X' to 'mean' to calculate the mean value\n",
    "val = df['serum_ca_min_0_7'].X()\n",
    "print('mean value', val)\n",
    "df['imputed_serum_ca_min_0_7'] = df['serum_ca_min_0_7'].fillna(val)\n",
    "print('---after imputation with mean value---')\n",
    "print(df['imputed_serum_ca_min_0_7'].head())"
   ]
  },
  {
   "cell_type": "markdown",
   "metadata": {},
   "source": [
    "In addition to this simple imputation, there are also other popular imputation approaches, such as k-Nearest neighbors (KNN) and multiple imputation by chained equation (MICE). For more information, you can refer to [KNN](https://scikit-learn.org/stable/modules/generated/sklearn.impute.KNNImputer.html#examples-using-sklearn-impute-knnimputer) and [MICE](https://scikit-learn.org/stable/modules/generated/sklearn.impute.IterativeImputer.html#sklearn.impute.IterativeImputer)."
   ]
  },
  {
   "cell_type": "markdown",
   "metadata": {},
   "source": [
    "### 4.2 Transforming the dataset\n",
    "\n",
    "EHR data contains both categorical values and numeric values. However, most Python models now only accept numeric values. We need to convert all categorical values to numeric values.\n",
    "\n",
    "Let's look at one variable 'sex' which contains two levels: 'FEMALE' and 'MALE'. For these binary values, we can transform these values to numeric values by simply replacing them with 0 and 1 respectively."
   ]
  },
  {
   "cell_type": "code",
   "execution_count": null,
   "metadata": {},
   "outputs": [
    {
     "name": "stdout",
     "output_type": "stream",
     "text": [
      "---before tranformation---\n",
      "['FEMALE' 'MALE']\n",
      "---after tranformation---\n",
      "[0 1]\n"
     ]
    }
   ],
   "source": [
    "print('---before tranformation---')\n",
    "print(df['sex'].unique())\n",
    "##let us replace 'FEMALE' with 0 and 'MALE' with 1\n",
    "df['sex'] = df['sex'].replace({'FEMALE' : 0, 'MALE' : 1})\n",
    "print('---after tranformation---')\n",
    "print(df['sex'].unique())"
   ]
  },
  {
   "cell_type": "markdown",
   "metadata": {},
   "source": [
    "Let's try another variable 'anesthesia_type' which contains two levels: 'GENERAL'and 'LOCAL/REGIONAL'."
   ]
  },
  {
   "cell_type": "code",
   "execution_count": null,
   "metadata": {},
   "outputs": [
    {
     "name": "stdout",
     "output_type": "stream",
     "text": [
      "---before tranformation---\n",
      "['GENERAL' 'LOCAL/REGIONAL']\n"
     ]
    },
    {
     "ename": "NameError",
     "evalue": "name 'X' is not defined",
     "output_type": "error",
     "traceback": [
      "\u001b[1;31m---------------------------------------------------------------------------\u001b[0m",
      "\u001b[1;31mNameError\u001b[0m                                 Traceback (most recent call last)",
      "Input \u001b[1;32mIn [7]\u001b[0m, in \u001b[0;36m<cell line: 4>\u001b[1;34m()\u001b[0m\n\u001b[0;32m      2\u001b[0m \u001b[38;5;28mprint\u001b[39m(df[\u001b[38;5;124m'\u001b[39m\u001b[38;5;124manesthesia_type\u001b[39m\u001b[38;5;124m'\u001b[39m]\u001b[38;5;241m.\u001b[39munique())\n\u001b[0;32m      3\u001b[0m \u001b[38;5;66;03m##Todo: let us replace 'X' and 'Y' with two 'anesthesia_type' levels 'GENERAL'and 'LOCAL/REGIONAL' respectively\u001b[39;00m\n\u001b[1;32m----> 4\u001b[0m df[\u001b[38;5;124m'\u001b[39m\u001b[38;5;124manesthesia_type\u001b[39m\u001b[38;5;124m'\u001b[39m] \u001b[38;5;241m=\u001b[39m df[\u001b[38;5;124m'\u001b[39m\u001b[38;5;124manesthesia_type\u001b[39m\u001b[38;5;124m'\u001b[39m]\u001b[38;5;241m.\u001b[39mreplace({\u001b[43mX\u001b[49m : \u001b[38;5;241m0\u001b[39m, Y : \u001b[38;5;241m1\u001b[39m})\n\u001b[0;32m      5\u001b[0m \u001b[38;5;28mprint\u001b[39m(\u001b[38;5;124m'\u001b[39m\u001b[38;5;124m---after tranformation---\u001b[39m\u001b[38;5;124m'\u001b[39m)\n\u001b[0;32m      6\u001b[0m \u001b[38;5;28mprint\u001b[39m(df[\u001b[38;5;124m'\u001b[39m\u001b[38;5;124manesthesia_type\u001b[39m\u001b[38;5;124m'\u001b[39m]\u001b[38;5;241m.\u001b[39munique())\n",
      "\u001b[1;31mNameError\u001b[0m: name 'X' is not defined"
     ]
    }
   ],
   "source": [
    "print('---before tranformation---')\n",
    "print(df['anesthesia_type'].unique())\n",
    "##Todo: let us replace 'X' and 'Y' with two 'anesthesia_type' levels 'GENERAL'and 'LOCAL/REGIONAL' respectively\n",
    "df['anesthesia_type'] = df['anesthesia_type'].replace({X : 0, Y : 1})\n",
    "print('---after tranformation---')\n",
    "print(df['anesthesia_type'].unique())"
   ]
  },
  {
   "cell_type": "markdown",
   "metadata": {},
   "source": [
    "If the categorical values contains two more levels and the variable does not follow some natural order, such as 'marital_status', we cannot simlply use 0,1,2 to replace each level. One common way to process is that for each level of a variable, we make it as extra feature and consider the presence and absence of that feature. Let's see the example."
   ]
  },
  {
   "cell_type": "code",
   "execution_count": null,
   "metadata": {},
   "outputs": [
    {
     "name": "stdout",
     "output_type": "stream",
     "text": [
      "---before transformation---\n",
      "0    DIVORCED\n",
      "1     MARRIED\n",
      "2     MARRIED\n",
      "3     MARRIED\n",
      "4      SINGLE\n",
      "Name: marital_status, dtype: object\n",
      "---after transformation---\n",
      "   DIVORCED  MARRIED  MISSING  SINGLE\n",
      "0         1        0        0       0\n",
      "1         0        1        0       0\n",
      "2         0        1        0       0\n",
      "3         0        1        0       0\n",
      "4         0        0        0       1\n"
     ]
    }
   ],
   "source": [
    "print('---before transformation---')\n",
    "print(df['marital_status'].head())\n",
    "marital_status_transformed = pd.get_dummies(df['marital_status'])\n",
    "print('---after transformation---')\n",
    "print(marital_status_transformed.head())"
   ]
  },
  {
   "cell_type": "markdown",
   "metadata": {},
   "source": [
    "We have briefly introduced the phase 'data extraction and processing' and are going to the develop ML models for our prediction task. To simplify our project, a processed data file has been provided. Let's load it.  "
   ]
  },
  {
   "cell_type": "code",
   "execution_count": null,
   "metadata": {},
   "outputs": [
    {
     "name": "stdout",
     "output_type": "stream",
     "text": [
      "   patient_id  sex  ethnicity      race  language  marital_status  \\\n",
      "0           0    0  -1.796259 -1.657746         1       -1.605578   \n",
      "1           1    1  -1.796259 -1.827618         1       -1.801145   \n",
      "2           2    0  -1.796259 -1.827618         1       -1.801145   \n",
      "3           3    1  -1.796259 -1.827618         1       -1.801145   \n",
      "4           4    1  -1.796259 -1.827618         1       -1.924585   \n",
      "\n",
      "   smoking_status    county  attend_doc  sched_room  ...  serum_ca_min_0_7  \\\n",
      "0       -2.021878 -1.467852   -2.074528   -2.480968  ...               9.1   \n",
      "1       -1.771219 -1.860752   -2.464866   -2.700371  ...               8.6   \n",
      "2       -2.021878 -2.078109   -2.546061   -2.055911  ...              10.0   \n",
      "3       -1.686798 -2.078109   -1.334699   -1.326118  ...               8.7   \n",
      "4       -2.021878 -1.847705   -1.945910   -2.324189  ...               8.7   \n",
      "\n",
      "   serum_ca_max_0_7  serum_ca_avg_0_7  serum_ca_var_0_7  count_serum_can_0_7  \\\n",
      "0               9.4          9.212500          0.000000                    0   \n",
      "1              10.0          9.300000          0.653333                    4   \n",
      "2              10.0         10.000000          0.000000                    2   \n",
      "3              10.3          9.233333          0.282424                   12   \n",
      "4               9.6          9.025000          0.139286                    8   \n",
      "\n",
      "   serum_anion_gap_avg_0_7  count_serum_anion_gapn_0_7  ckd        egfr  \\\n",
      "0                12.333333                           0    1   94.040797   \n",
      "1                 9.000000                           2    1   95.500156   \n",
      "2                 7.000000                           1    1   94.040797   \n",
      "3                 8.500000                           6    1   89.149118   \n",
      "4                12.600000                           5    1  120.954389   \n",
      "\n",
      "   aki_surg_disch  \n",
      "0             0.0  \n",
      "1             0.0  \n",
      "2             0.0  \n",
      "3             1.0  \n",
      "4             0.0  \n",
      "\n",
      "[5 rows x 139 columns]\n"
     ]
    }
   ],
   "source": [
    "df = pd.read_csv('processed_data.csv')\n",
    "print(df.head())"
   ]
  },
  {
   "cell_type": "markdown",
   "metadata": {},
   "source": [
    "### 4.3 Feature Scaling\n",
    "\n",
    "The dataset often contains different types of variables and the range of the variables may differ a lot. Let's check two variables in our dataset, such as 'serum_creatinine_min_0_7' and 'serum_anion_gap_avg_0_7'."
   ]
  },
  {
   "cell_type": "code",
   "execution_count": null,
   "metadata": {},
   "outputs": [
    {
     "name": "stdout",
     "output_type": "stream",
     "text": [
      "count    10000.000000\n",
      "mean         0.946957\n",
      "std          0.402052\n",
      "min          0.200000\n",
      "25%          0.800000\n",
      "50%          0.885000\n",
      "75%          0.980000\n",
      "max          9.050000\n",
      "Name: serum_creatinine_avg_0_7, dtype: float64\n",
      "count    10000.000000\n",
      "mean        10.801996\n",
      "std          2.453134\n",
      "min          2.000000\n",
      "25%          9.000000\n",
      "50%         11.000000\n",
      "75%         12.333333\n",
      "max         24.000000\n",
      "Name: serum_anion_gap_avg_0_7, dtype: float64\n"
     ]
    }
   ],
   "source": [
    "print(df['serum_creatinine_avg_0_7'].describe())\n",
    "print(df['serum_anion_gap_avg_0_7'].describe())"
   ]
  },
  {
   "cell_type": "markdown",
   "metadata": {},
   "source": [
    "Using the original scale, the model may put more weight on the variables with a large scale. Thus the performance of model might go down. In order to deal with this problem, we need to apply the technique of feature scaling to make sure features are on almost the same scale.\n",
    "\n",
    "Notice that not all ML models require feature scaling. ML algorithms like linear regression, logistic regression, neural network, PCA (principal component analysis), etc., require data to be scaled. Tree based ML algorithms like random forest, decision tree, extreme gradient boosting often don't require feature scaling.  \n",
    "\n",
    "Two frequently used feature scaling approaches are **Z-score normalization** and **Min-Max normalization**. Applying Z-score normalization will rescale the variable to have a **mean of zero** and a **standard deviation of one**. The Min-Max scaling will rescale the variable to a **fixed range, usually 0-1**. \n",
    "\n",
    "\n",
    "We will be using some data processing functions from the library scikit-learn.\n",
    "\n",
    "* Scikit-learn is an open source machine learning library that supports supervised and unsupervised learning. It also provides various tools for model fitting, data preprocessing, model selection, model evaluation, and many other utilities. (https://scikit-learn.org/stable/getting_started.html)\n"
   ]
  },
  {
   "cell_type": "code",
   "execution_count": null,
   "metadata": {},
   "outputs": [
    {
     "name": "stdout",
     "output_type": "stream",
     "text": [
      "mean [-2.80664381e-17 -6.68265443e-16  7.21058768e-15 -1.30739863e-16\n",
      " -2.07620587e-15 -6.06448225e-16  1.50492951e-15 -5.75539616e-17\n",
      " -2.33058017e-16 -1.27897692e-17  3.99502653e-16  9.23705556e-18\n",
      "  7.10542736e-17  7.81597009e-18  1.02318154e-16  4.81037432e-16\n",
      " -5.22959454e-15  2.34479103e-17  1.07647224e-16 -2.28439490e-16\n",
      " -6.75015599e-17 -5.68434189e-17 -2.94875235e-17  5.71986902e-16\n",
      " -1.70530257e-17  2.95656832e-15  2.55795385e-17 -1.20081722e-16\n",
      " -1.92557081e-16 -8.73967565e-17  1.00897068e-16 -2.13162821e-17\n",
      "  1.13686838e-17  1.08002496e-16 -1.70530257e-17  8.10018719e-17\n",
      "  7.81597009e-18 -2.06057393e-17  3.55271368e-17  6.39488462e-18\n",
      "  6.60804744e-17 -2.13162821e-18 -7.38964445e-17 -7.81597009e-18\n",
      "  3.87245791e-17  4.76063633e-17 -1.27897692e-17 -8.17124146e-18\n",
      "  3.41060513e-17 -1.42108547e-18 -2.77111667e-17  2.34479103e-17\n",
      "  4.47641924e-17 -4.76063633e-17  7.46069873e-18  3.12638804e-17\n",
      "  3.90798505e-17 -6.65245636e-17 -6.35935749e-17 -2.34479103e-17\n",
      "  2.48689958e-18  4.12825329e-16  1.11555210e-16  1.67688086e-16\n",
      " -4.44089210e-17 -4.47641924e-17 -3.39639428e-16  1.11270992e-15\n",
      " -8.43662917e-15  1.29452005e-14  2.52242671e-17  5.55644419e-16\n",
      "  6.94910796e-16  2.57927013e-16 -1.89004368e-16 -2.06057393e-17\n",
      " -1.09423581e-16  1.72590831e-15  1.17807986e-15 -8.88178420e-18\n",
      " -2.37321274e-16 -4.74642547e-16  1.30739863e-16 -4.79616347e-17\n",
      "  1.13686838e-17  1.07593934e-15 -1.95399252e-18  2.06554773e-15\n",
      "  4.84590146e-16  7.10542736e-19  9.78772619e-17 -3.10933501e-15\n",
      " -6.12772055e-15 -1.84030569e-15  2.55795385e-16  0.00000000e+00\n",
      " -1.80477855e-16  3.16902060e-16 -1.37845291e-16  6.75015599e-17\n",
      " -2.06057393e-16 -3.76587650e-17 -5.93658456e-16 -4.58300065e-17\n",
      " -8.45545856e-17  1.43174361e-16  2.74269496e-16  1.42108547e-18\n",
      " -3.21520588e-17 -5.40012479e-17 -1.29318778e-16  1.35003120e-16\n",
      "  1.10134124e-17 -1.13686838e-17  5.09885467e-15  4.00302014e-15\n",
      "  1.20792265e-17 -3.35020900e-16 -3.65929509e-17 -1.04307674e-15\n",
      "  1.45945478e-15  1.81188398e-16 -3.90798505e-18 -5.81934501e-16\n",
      "  3.35376171e-16  5.42144107e-16 -2.48689958e-16 -3.19744231e-17\n",
      "  3.55555585e-15 -5.69855274e-15  9.91917659e-16  4.12114787e-17\n",
      " -2.70006240e-17  6.75015599e-17 -3.23296945e-17  1.06581410e-16\n",
      "  6.44462261e-16]\n",
      "standard deviation [1. 1. 1. 1. 1. 1. 1. 1. 1. 1. 1. 1. 1. 1. 1. 1. 1. 1. 1. 1. 1. 1. 1. 1.\n",
      " 1. 1. 1. 1. 1. 1. 1. 1. 1. 1. 1. 1. 1. 1. 1. 1. 1. 1. 1. 1. 1. 1. 1. 1.\n",
      " 1. 1. 1. 1. 1. 1. 1. 1. 1. 1. 1. 1. 1. 1. 1. 1. 1. 1. 1. 1. 1. 1. 1. 1.\n",
      " 1. 1. 1. 1. 1. 1. 1. 1. 1. 1. 1. 1. 1. 1. 1. 1. 1. 1. 1. 1. 1. 1. 1. 1.\n",
      " 1. 1. 1. 1. 1. 1. 1. 1. 1. 1. 1. 1. 1. 1. 1. 1. 1. 1. 1. 1. 1. 1. 1. 1.\n",
      " 1. 1. 1. 1. 1. 1. 1. 1. 1. 1. 1. 1. 1. 1. 1. 1. 1.]\n"
     ]
    }
   ],
   "source": [
    "from sklearn.preprocessing import StandardScaler, MinMaxScaler\n",
    "##split dataset into features (X) and labels (Y)\n",
    "X = df[df.columns.tolist()[1:-1]].values\n",
    "Y = df['aki_surg_disch'].values\n",
    "\n",
    "##z-score normalization on features\n",
    "#init the scaler\n",
    "scaler = StandardScaler()\n",
    "#fit the scaler to the data\n",
    "scaler.fit(X)\n",
    "X_normalized = scaler.transform(X)\n",
    "\n",
    "#check the mean and standard deviation of all variables, should be 0 and 1 respectively\n",
    "print('mean', np.mean(X_normalized, axis=0))\n",
    "print('standard deviation', np.std(X_normalized, axis=0))"
   ]
  },
  {
   "cell_type": "markdown",
   "metadata": {},
   "source": [
    "Now let's play with Min-Max normalization."
   ]
  },
  {
   "cell_type": "code",
   "execution_count": null,
   "metadata": {},
   "outputs": [
    {
     "name": "stdout",
     "output_type": "stream",
     "text": [
      "min value [0. 0. 0. 0. 0. 0. 0. 0. 0. 0. 0. 0. 0. 0. 0. 0. 0. 0. 0. 0. 0. 0. 0. 0.\n",
      " 0. 0. 0. 0. 0. 0. 0. 0. 0. 0. 0. 0. 0. 0. 0. 0. 0. 0. 0. 0. 0. 0. 0. 0.\n",
      " 0. 0. 0. 0. 0. 0. 0. 0. 0. 0. 0. 0. 0. 0. 0. 0. 0. 0. 0. 0. 0. 0. 0. 0.\n",
      " 0. 0. 0. 0. 0. 0. 0. 0. 0. 0. 0. 0. 0. 0. 0. 0. 0. 0. 0. 0. 0. 0. 0. 0.\n",
      " 0. 0. 0. 0. 0. 0. 0. 0. 0. 0. 0. 0. 0. 0. 0. 0. 0. 0. 0. 0. 0. 0. 0. 0.\n",
      " 0. 0. 0. 0. 0. 0. 0. 0. 0. 0. 0. 0. 0. 0. 0. 0. 0.]\n",
      "max value [1. 1. 1. 1. 1. 1. 1. 1. 1. 1. 1. 1. 1. 1. 1. 1. 1. 1. 1. 1. 1. 1. 1. 1.\n",
      " 1. 1. 1. 1. 1. 1. 1. 1. 1. 1. 1. 1. 1. 1. 1. 1. 1. 1. 1. 1. 1. 1. 1. 1.\n",
      " 1. 1. 1. 1. 1. 1. 1. 1. 1. 1. 1. 1. 1. 1. 1. 1. 1. 1. 1. 1. 1. 1. 1. 1.\n",
      " 1. 1. 1. 1. 1. 1. 1. 1. 1. 1. 1. 1. 1. 1. 1. 1. 1. 1. 1. 1. 1. 1. 1. 1.\n",
      " 1. 1. 1. 1. 1. 1. 1. 1. 1. 1. 1. 1. 1. 1. 1. 1. 1. 1. 1. 1. 1. 1. 1. 1.\n",
      " 1. 1. 1. 1. 1. 1. 1. 1. 1. 1. 1. 1. 1. 1. 1. 1. 1.]\n"
     ]
    }
   ],
   "source": [
    "##min-max normalization on features\n",
    "#init the scaler\n",
    "scaler = MinMaxScaler()\n",
    "#fit the scaler to the data\n",
    "scaler.fit(X)\n",
    "X_minmax_normalized = scaler.transform(X)\n",
    "\n",
    "#check the min and max value of all variables, should be 0 and 1 respectively. \n",
    "print('min value', np.min(X_minmax_normalized, axis=0))\n",
    "print('max value', np.max(X_minmax_normalized, axis=0))"
   ]
  },
  {
   "cell_type": "markdown",
   "metadata": {},
   "source": [
    "## 5. ML Model development"
   ]
  },
  {
   "cell_type": "markdown",
   "metadata": {},
   "source": [
    "We will develop two ML models. One is a conventional but effective machine learning model, extreme gradient boosting (XGBoost). Another one is a simple deep learning model, multi-layer perceptron (MLP)."
   ]
  },
  {
   "cell_type": "markdown",
   "metadata": {},
   "source": [
    "Before digging into the model developing, we will first divide our dataset into a training set (sometimes referred to as a development set), and a testing set (sometimes referred to as a validation set). Split dataset into a training set and a testing set. Here we use a random 20% of samples as our testing set to evaluate model performance. We will also set an (optional) random state for reproducibility."
   ]
  },
  {
   "cell_type": "code",
   "execution_count": null,
   "metadata": {},
   "outputs": [
    {
     "name": "stdout",
     "output_type": "stream",
     "text": [
      "Train set shape:  (8000, 137)\n",
      "Test set shape:  (2000, 137)\n"
     ]
    }
   ],
   "source": [
    "from sklearn.model_selection import train_test_split\n",
    "X_train, X_test, y_train, y_test = train_test_split(X_normalized, Y, test_size=0.20, random_state=1)\n",
    "print(\"Train set shape: \", X_train.shape)\n",
    "print(\"Test set shape: \", X_test.shape)"
   ]
  },
  {
   "cell_type": "markdown",
   "metadata": {},
   "source": [
    "### 5.1 XGBoost model"
   ]
  },
  {
   "cell_type": "markdown",
   "metadata": {},
   "source": [
    "Let's start developing our XGBoost model. We will train our model using training dataset."
   ]
  },
  {
   "cell_type": "code",
   "execution_count": null,
   "metadata": {},
   "outputs": [
    {
     "data": {
      "text/plain": [
       "XGBClassifier(base_score=None, booster=None, callbacks=None,\n",
       "              colsample_bylevel=None, colsample_bynode=None,\n",
       "              colsample_bytree=None, early_stopping_rounds=None,\n",
       "              enable_categorical=False, eval_metric=None, feature_types=None,\n",
       "              gamma=None, gpu_id=None, grow_policy=None, importance_type=None,\n",
       "              interaction_constraints=None, learning_rate=None, max_bin=None,\n",
       "              max_cat_threshold=None, max_cat_to_onehot=None,\n",
       "              max_delta_step=None, max_depth=None, max_leaves=None,\n",
       "              min_child_weight=None, missing=nan, monotone_constraints=None,\n",
       "              n_estimators=100, n_jobs=None, num_parallel_tree=None,\n",
       "              predictor=None, random_state=None, ...)"
      ]
     },
     "execution_count": 32,
     "metadata": {},
     "output_type": "execute_result"
    }
   ],
   "source": [
    "import xgboost as xgb\n",
    "#Init classifier\n",
    "xgb_cl = xgb.XGBClassifier()\n",
    "\n",
    "\n",
    "#Fit the model to training dataset\n",
    "xgb_cl.fit(X_train, y_train)"
   ]
  },
  {
   "cell_type": "markdown",
   "metadata": {},
   "source": [
    "Once the model is trained, we need to evaluate the performance of model on testing dataset. We first need to use our model to predict the outcome and compare the prediction with ground truth.Since our outcome is binary (0/1), for each of 2000 test samples, two values will be generated. For example, (0.7,0.3) means that the patient will have 70% chance not to develop postoperative AKI, and 30% chance to develop postoperative AKI. The class that have larger probability will be selected as the final prediction."
   ]
  },
  {
   "cell_type": "code",
   "execution_count": null,
   "metadata": {},
   "outputs": [
    {
     "name": "stdout",
     "output_type": "stream",
     "text": [
      "(2000, 2)\n",
      "[[0.99167347 0.00832656]\n",
      " [0.9913942  0.00860579]\n",
      " [0.9961532  0.00384684]\n",
      " ...\n",
      " [0.436772   0.563228  ]\n",
      " [0.99023664 0.00976333]\n",
      " [0.9516187  0.0483813 ]]\n"
     ]
    }
   ],
   "source": [
    "y_prob = xgb_cl.predict_proba(X_test)\n",
    "print(y_prob.shape)\n",
    "print(y_prob)"
   ]
  },
  {
   "cell_type": "code",
   "execution_count": null,
   "metadata": {},
   "outputs": [
    {
     "data": {
      "text/plain": [
       "array([0, 0, 0, ..., 1, 0, 0], dtype=int64)"
      ]
     },
     "execution_count": 34,
     "metadata": {},
     "output_type": "execute_result"
    }
   ],
   "source": [
    "y_hat = np.argmax(y_prob, axis=1)\n",
    "y_hat"
   ]
  },
  {
   "cell_type": "markdown",
   "metadata": {},
   "source": [
    "Let's evaluate the performance of our model usin\n",
    "#### Accuracy\n",
    "It calculates ratio of number of correct predictions to the total number of input samples."
   ]
  },
  {
   "cell_type": "code",
   "execution_count": null,
   "metadata": {},
   "outputs": [
    {
     "data": {
      "text/plain": [
       "0.8475"
      ]
     },
     "execution_count": 51,
     "metadata": {},
     "output_type": "execute_result"
    }
   ],
   "source": [
    "accuracy = sum(y_hat == y_test) / len(y_test)\n",
    "accuracy"
   ]
  },
  {
   "cell_type": "markdown",
   "metadata": {},
   "source": [
    "### Feature importance\n",
    "\n",
    "ML model should be explainable to provide some understanding between the input features and the output. XGBoost can automatically provide estimates of feature importance from a trained predictive model. Using attribute name 'feature_importances_' we can get the feature importance score for all input features."
   ]
  },
  {
   "cell_type": "code",
   "execution_count": null,
   "metadata": {},
   "outputs": [
    {
     "name": "stdout",
     "output_type": "stream",
     "text": [
      "[0.00523487 0.00465262 0.00488358 0.00562574 0.00499612 0.00562071\n",
      " 0.00458559 0.00817062 0.00830173 0.         0.03641732 0.00674455\n",
      " 0.00655147 0.00908501 0.01049678 0.00487934 0.00511769 0.00988178\n",
      " 0.01279844 0.00585523 0.00707159 0.00670204 0.00712389 0.00540621\n",
      " 0.00584234 0.00845196 0.00846781 0.00628176 0.00611165 0.0061715\n",
      " 0.00601843 0.00321217 0.0049367  0.01053559 0.00737355 0.00231154\n",
      " 0.         0.00136139 0.00655475 0.004007   0.00410873 0.00402686\n",
      " 0.00654818 0.00699738 0.00387213 0.01250133 0.00628857 0.00360613\n",
      " 0.0033693  0.00577783 0.00696724 0.00671653 0.02040024 0.0062748\n",
      " 0.00595305 0.00536856 0.00997729 0.00599094 0.00805699 0.008273\n",
      " 0.0054919  0.00626372 0.00586068 0.00581319 0.00620992 0.007451\n",
      " 0.01131509 0.01362963 0.         0.         0.         0.01440157\n",
      " 0.00669511 0.00870439 0.00518165 0.01037926 0.00861935 0.00542083\n",
      " 0.00861841 0.0091252  0.00706168 0.0069644  0.007368   0.00661351\n",
      " 0.01355573 0.00499858 0.00946411 0.01300297 0.00611423 0.00454162\n",
      " 0.00538655 0.00521091 0.00672099 0.00691427 0.00855996 0.0066042\n",
      " 0.00641349 0.00892474 0.00693326 0.00628289 0.00599974 0.00575655\n",
      " 0.00644066 0.00427624 0.00469923 0.00718788 0.00671721 0.00429898\n",
      " 0.00972086 0.00639659 0.03060299 0.01358003 0.00818592 0.00690753\n",
      " 0.00385654 0.00600814 0.02465194 0.0088198  0.02206636 0.00647971\n",
      " 0.00757839 0.00686432 0.         0.01080105 0.00872464 0.00982816\n",
      " 0.00608461 0.00413648 0.01390718 0.00521291 0.00885491 0.00866613\n",
      " 0.         0.00502264 0.         0.0017983  0.00813429]\n"
     ]
    }
   ],
   "source": [
    "print(xgb_cl.feature_importances_)"
   ]
  },
  {
   "cell_type": "markdown",
   "metadata": {},
   "source": [
    "Let's list top 20 features and their scores."
   ]
  },
  {
   "cell_type": "code",
   "execution_count": null,
   "metadata": {},
   "outputs": [
    {
     "data": {
      "text/plain": [
       "<AxesSubplot:ylabel='feature_name'>"
      ]
     },
     "execution_count": 49,
     "metadata": {},
     "output_type": "execute_result"
    },
    {
     "data": {
      "image/png": "[encoded data removed]",
      "text/plain": [
       "<Figure size 432x288 with 1 Axes>"
      ]
     },
     "metadata": {
      "needs_background": "light"
     },
     "output_type": "display_data"
    }
   ],
   "source": [
    "feature_names = df.columns.tolist()[1:-1]\n",
    "feature_importance_df = pd.DataFrame({'feature_name' : feature_names, 'importance_score' : xgb_cl.feature_importances_})\n",
    "\n",
    "###sort the feature importance\n",
    "feature_importance_df = feature_importance_df.sort_values(['importance_score'])\n",
    "top_20_features = feature_importance_df.tail(20)\n",
    "top_20_features.plot.barh(x='feature_name', y='importance_score')"
   ]
  },
  {
   "cell_type": "markdown",
   "metadata": {},
   "source": [
    "We observed that the top 5 features including the scheduled primary procedure code, some laboratory measurements with 0-7 days before surgery start time (i.e., serum creatinine, serum sodium and serum potassium) and hypertension comorbidity contribute most to the model prediction."
   ]
  },
  {
   "cell_type": "markdown",
   "metadata": {},
   "source": [
    "### 5.2 MLP model\n",
    "We will use Keras to create a fully-connected neural network for our prediction task. This type of deep learning architecture is sometimes also known as a multi-layer perceptron (MLP). It is a relatively simple deep learning model that passes input data through multiple hidden layers (each with a number of hidden neurons and a particular activation function) to produce an output (see figure below). We will construct our model to perform a classification task from our dataset.\n",
    "<img src=\"ANN.jpg\" alt=\"ANN\" width=\"600\" height=\"600\">\n",
    "\n",
    "There are many ways to create a model using the Keras API. Here, we will create a Sequential object, which is a way to define a series of layers that make up our model. In a Sequential model, input data will flow from one layer to the next, in the order that we define our layers."
   ]
  },
  {
   "cell_type": "code",
   "execution_count": null,
   "metadata": {
    "executionInfo": {
     "elapsed": 4016,
     "status": "ok",
     "timestamp": 1654527395770,
     "user": {
      "displayName": "Benjamin Shickel",
      "userId": "07487924651552066401"
     },
     "user_tz": 240
    },
    "id": "BG5sFXLvsi5B"
   },
   "outputs": [],
   "source": [
    "from tensorflow.keras import layers\n",
    "from tensorflow.keras import Sequential\n",
    "\n",
    "model = Sequential()"
   ]
  },
  {
   "cell_type": "markdown",
   "metadata": {},
   "source": [
    "Each hidden layer of our neural network will be created using the **Dense** class from Keras. For each layer, we must define the number of hidden units (also known as neurons). There are several optional arguments we may also pass, which can be viewed in the [Keras documentation page](https://keras.io/api/layers/core_layers/dense/). We can add many layers to our deep learning model using the .add() function of the Sequential class. You can think of a Sequential container as a list of hidden layers.\n",
    "\n",
    "For the first layer of our neural network, we must tell Keras how many variables to expect in each input vector. From our previous data exploration, we know that each patient is defined by 137 different variables, so the input dimension to our network is 137.\n",
    "\n",
    "One reason why deep learning models are so powerful is their ability to model complex variable interactions through nonlinear activation functions. We have several choices for activation function. In our example, we will use the commonly chosen Rectified Linear Unit activation (ReLU)."
   ]
  },
  {
   "cell_type": "code",
   "execution_count": null,
   "metadata": {},
   "outputs": [],
   "source": [
    "model.add(layers.Dense(units=500, input_dim=137, activation='relu'))"
   ]
  },
  {
   "cell_type": "markdown",
   "metadata": {},
   "source": [
    "So far our model has a single hidden layer. Let's add one more hidden layer with 800 hidden units."
   ]
  },
  {
   "cell_type": "code",
   "execution_count": null,
   "metadata": {},
   "outputs": [],
   "source": [
    "model.add(layers.Dense(units=800, activation='relu'))"
   ]
  },
  {
   "cell_type": "markdown",
   "metadata": {},
   "source": [
    "Once we are satisfied with the hidden layers of our model, we need to add an output layer for generating class predictions. Our output layer will also be a Dense layer, but it will only have a single (1) unit. Instead of ReLU, we will use a sigmoid activation function, which is typically chosen for binary classification problems such as ours. Using a sigmoid activation on our output layer allows us to interpret the output as a prediction probability. In other words, the probability that a given input vector belongs to class 1."
   ]
  },
  {
   "cell_type": "code",
   "execution_count": null,
   "metadata": {},
   "outputs": [],
   "source": [
    "model.add(layers.Dense(units=1, activation='sigmoid'))"
   ]
  },
  {
   "cell_type": "markdown",
   "metadata": {},
   "source": [
    "Now that we have defined the architecture of our neural network, we will use the .compile() function to build it. In our example we are defining a few arguments that are associated with the training of our model:\n",
    "* We are using a binary cross-entropy loss. This is an appropriate choise for binary classification.\n",
    "* We will be using the Adam optimizer, which is a popular version of stochastic gradient descent (SGD).\n",
    "* For this example, we are interested in our model's prediction accuracy, so we'll tell Keras to use the \"accuracy\" metric. "
   ]
  },
  {
   "cell_type": "code",
   "execution_count": null,
   "metadata": {},
   "outputs": [],
   "source": [
    "model.compile(loss='binary_crossentropy', optimizer='adam', metrics=['accuracy'])"
   ]
  },
  {
   "cell_type": "markdown",
   "metadata": {},
   "source": [
    "Now it's time to train our prediction model! We will fit the model using our training dataset. We will use the one-line function **.fit()** to train our entire deep learning model.\n",
    "\n",
    "* We will tell Keras to train the model for 10 epochs.\n",
    "* We will use a batch size of 64 samples. During each epoch, the model will pass in 64 samples at a time.\n",
    "* We will use a random 30% of the training dataset as our hold-out dataset (here called the validation set) for computing metrics."
   ]
  },
  {
   "cell_type": "code",
   "execution_count": null,
   "metadata": {
    "id": "ez-TWmw5uGNT"
   },
   "outputs": [
    {
     "name": "stdout",
     "output_type": "stream",
     "text": [
      "Epoch 1/10\n",
      "88/88 [==============================] - 3s 8ms/step - loss: 0.4036 - accuracy: 0.8307 - val_loss: 0.3718 - val_accuracy: 0.8408\n",
      "Epoch 2/10\n",
      "88/88 [==============================] - 0s 5ms/step - loss: 0.3271 - accuracy: 0.8652 - val_loss: 0.3899 - val_accuracy: 0.8233\n",
      "Epoch 3/10\n",
      "88/88 [==============================] - 0s 5ms/step - loss: 0.2922 - accuracy: 0.8805 - val_loss: 0.3792 - val_accuracy: 0.8429\n",
      "Epoch 4/10\n",
      "88/88 [==============================] - 0s 5ms/step - loss: 0.2546 - accuracy: 0.8984 - val_loss: 0.3778 - val_accuracy: 0.8446\n",
      "Epoch 5/10\n",
      "88/88 [==============================] - 0s 4ms/step - loss: 0.2061 - accuracy: 0.9182 - val_loss: 0.4330 - val_accuracy: 0.8138\n",
      "Epoch 6/10\n",
      "88/88 [==============================] - 0s 5ms/step - loss: 0.1620 - accuracy: 0.9409 - val_loss: 0.4723 - val_accuracy: 0.8329\n",
      "Epoch 7/10\n",
      "88/88 [==============================] - 0s 5ms/step - loss: 0.1245 - accuracy: 0.9525 - val_loss: 0.5345 - val_accuracy: 0.8208\n",
      "Epoch 8/10\n",
      "88/88 [==============================] - 0s 5ms/step - loss: 0.0775 - accuracy: 0.9746 - val_loss: 0.6291 - val_accuracy: 0.8242\n",
      "Epoch 9/10\n",
      "88/88 [==============================] - 0s 5ms/step - loss: 0.0604 - accuracy: 0.9804 - val_loss: 0.6824 - val_accuracy: 0.8296\n",
      "Epoch 10/10\n",
      "88/88 [==============================] - 0s 5ms/step - loss: 0.0522 - accuracy: 0.9816 - val_loss: 0.8021 - val_accuracy: 0.8358\n"
     ]
    },
    {
     "data": {
      "text/plain": [
       "<keras.callbacks.History at 0x1a327d00fa0>"
      ]
     },
     "execution_count": 21,
     "metadata": {},
     "output_type": "execute_result"
    }
   ],
   "source": [
    "model.fit(X_train, y_train, epochs=10, batch_size=64, validation_split= 0.3)"
   ]
  },
  {
   "cell_type": "markdown",
   "metadata": {
    "executionInfo": {
     "elapsed": 211,
     "status": "ok",
     "timestamp": 1654527396881,
     "user": {
      "displayName": "Benjamin Shickel",
      "userId": "07487924651552066401"
     },
     "user_tz": 240
    },
    "id": "wqFjAlvrlK2R"
   },
   "source": [
    "Let's check the performance of our trained model on the test set we already created. The model has never seen this particular data, so it can provide an idea of how well the model might perform in the future (generalizability to unseen data). We will use the Keras function .evaluate(), which will compute the loss, as well as any metrics we defined when compiling our model. Since we told Keras to use \"accuracy\" when we compiled, we will see the model's accuracy on the test data."
   ]
  },
  {
   "cell_type": "code",
   "execution_count": null,
   "metadata": {},
   "outputs": [
    {
     "name": "stdout",
     "output_type": "stream",
     "text": [
      "63/63 [==============================] - 0s 5ms/step - loss: 0.8331 - accuracy: 0.8360\n"
     ]
    }
   ],
   "source": [
    "scores = model.evaluate(X_test, y_test)"
   ]
  },
  {
   "cell_type": "markdown",
   "metadata": {
    "id": "gH0MMpYJuMl9"
   },
   "source": [
    "Let's try another neural network! We will have three hidden layers with hidden units 500, 800 and 1000 respectively. "
   ]
  },
  {
   "cell_type": "code",
   "execution_count": null,
   "metadata": {
    "executionInfo": {
     "elapsed": 595,
     "status": "ok",
     "timestamp": 1654527402669,
     "user": {
      "displayName": "Benjamin Shickel",
      "userId": "07487924651552066401"
     },
     "user_tz": 240
    },
    "id": "oAyRynnCyc9L"
   },
   "outputs": [
    {
     "name": "stdout",
     "output_type": "stream",
     "text": [
      "Epoch 1/10\n",
      "88/88 [==============================] - 1s 8ms/step - loss: 0.3982 - accuracy: 0.8338 - val_loss: 0.3685 - val_accuracy: 0.8442\n",
      "Epoch 2/10\n",
      "88/88 [==============================] - 1s 6ms/step - loss: 0.3370 - accuracy: 0.8587 - val_loss: 0.3749 - val_accuracy: 0.8408\n",
      "Epoch 3/10\n",
      "88/88 [==============================] - 1s 6ms/step - loss: 0.2979 - accuracy: 0.8779 - val_loss: 0.3710 - val_accuracy: 0.8342\n",
      "Epoch 4/10\n",
      "88/88 [==============================] - 1s 6ms/step - loss: 0.2461 - accuracy: 0.8966 - val_loss: 0.4038 - val_accuracy: 0.8250\n",
      "Epoch 5/10\n",
      "88/88 [==============================] - 1s 7ms/step - loss: 0.1942 - accuracy: 0.9234 - val_loss: 0.5127 - val_accuracy: 0.8342\n",
      "Epoch 6/10\n",
      "88/88 [==============================] - 1s 6ms/step - loss: 0.1464 - accuracy: 0.9423 - val_loss: 0.5537 - val_accuracy: 0.8179\n",
      "Epoch 7/10\n",
      "88/88 [==============================] - 1s 6ms/step - loss: 0.0981 - accuracy: 0.9638 - val_loss: 0.7610 - val_accuracy: 0.7862\n",
      "Epoch 8/10\n",
      "88/88 [==============================] - 1s 6ms/step - loss: 0.0838 - accuracy: 0.9677 - val_loss: 0.8350 - val_accuracy: 0.7975\n",
      "Epoch 9/10\n",
      "88/88 [==============================] - 0s 6ms/step - loss: 0.0669 - accuracy: 0.9754 - val_loss: 0.9312 - val_accuracy: 0.8238\n",
      "Epoch 10/10\n",
      "88/88 [==============================] - 0s 6ms/step - loss: 0.0449 - accuracy: 0.9857 - val_loss: 0.9391 - val_accuracy: 0.8229\n"
     ]
    },
    {
     "data": {
      "text/plain": [
       "<keras.callbacks.History at 0x1a3093184c0>"
      ]
     },
     "execution_count": 23,
     "metadata": {},
     "output_type": "execute_result"
    }
   ],
   "source": [
    "model = Sequential()\n",
    "###first hidden layer with 500 hidden units, input layer with 137 variables as input\n",
    "model.add(layers.Dense(units=500, input_dim=137, activation='relu'))\n",
    "###second hidden layer with 800 hidden units\n",
    "model.add(layers.Dense(units=800, activation='relu'))\n",
    "###Third hidden layer with 1000 hidden units\n",
    "###To do, add third hidden layer with 1000 hidden units\n",
    "model.add(layers.Dense(units=, activation='relu'))\n",
    "###last output layer\n",
    "model.add(layers.Dense(units=1, activation='sigmoid'))\n",
    "\n",
    "##compile and train the model\n",
    "model.compile(loss='binary_crossentropy', optimizer='adam', metrics=['accuracy'])\n",
    "model.fit(X_train, y_train, epochs=10, batch_size=64, validation_split= 0.3)"
   ]
  },
  {
   "cell_type": "markdown",
   "metadata": {
    "id": "yD6lUNBwy-tB"
   },
   "source": [
    "Evaluate the performance of new model."
   ]
  },
  {
   "cell_type": "code",
   "execution_count": null,
   "metadata": {
    "executionInfo": {
     "elapsed": 6,
     "status": "ok",
     "timestamp": 1654527402670,
     "user": {
      "displayName": "Benjamin Shickel",
      "userId": "07487924651552066401"
     },
     "user_tz": 240
    },
    "id": "s5E3HV1My-HZ"
   },
   "outputs": [
    {
     "name": "stdout",
     "output_type": "stream",
     "text": [
      "63/63 [==============================] - 0s 5ms/step - loss: 0.9305 - accuracy: 0.8300\n"
     ]
    }
   ],
   "source": [
    "scores = model.evaluate(X_test, y_test)"
   ]
  }
 ],
 "metadata": {
  "accelerator": "GPU",
  "anaconda-cloud": {},
  "colab": {
   "collapsed_sections": [],
   "name": "MLP-Teacher.ipynb",
   "provenance": [
    {
     "file_id": "1HeKPEhTAMN0YCDHRP9wcYv18UUaaOJQW",
     "timestamp": 1654466786319
    },
    {
     "file_id": "148jGrKocKC_DFagQW4JBd7jtGQnOR9yf",
     "timestamp": 1654462810571
    }
   ],
   "version": ""
  },
  "kernelspec": {
   "display_name": "Python 3 (ipykernel)",
   "language": "python",
   "name": "python3"
  },
  "language_info": {
   "codemirror_mode": {
    "name": "ipython",
    "version": 3
   },
   "file_extension": ".py",
   "mimetype": "text/x-python",
   "name": "python",
   "nbconvert_exporter": "python",
   "pygments_lexer": "ipython3",
   "version": "3.8.12"
  }
 },
 "nbformat": 4,
 "nbformat_minor": 1
}
